{
 "cells": [
  {
   "cell_type": "markdown",
   "id": "8b06c5a0",
   "metadata": {},
   "source": [
    "### Importing necessary libraries"
   ]
  },
  {
   "cell_type": "code",
   "execution_count": 148,
   "id": "e14bce92",
   "metadata": {},
   "outputs": [],
   "source": [
    "import pandas as pd\n",
    "import numpy as np\n",
    "import seaborn as sns\n",
    "import matplotlib.pyplot as plt\n",
    "%matplotlib inline\n",
    "import warnings\n",
    "warnings.filterwarnings('ignore')"
   ]
  },
  {
   "cell_type": "markdown",
   "id": "7d2197bd",
   "metadata": {},
   "source": [
    "### Reading Datase"
   ]
  },
  {
   "cell_type": "code",
   "execution_count": 149,
   "id": "e58a37e3",
   "metadata": {},
   "outputs": [
    {
     "data": {
      "text/html": [
       "<div>\n",
       "<style scoped>\n",
       "    .dataframe tbody tr th:only-of-type {\n",
       "        vertical-align: middle;\n",
       "    }\n",
       "\n",
       "    .dataframe tbody tr th {\n",
       "        vertical-align: top;\n",
       "    }\n",
       "\n",
       "    .dataframe thead th {\n",
       "        text-align: right;\n",
       "    }\n",
       "</style>\n",
       "<table border=\"1\" class=\"dataframe\">\n",
       "  <thead>\n",
       "    <tr style=\"text-align: right;\">\n",
       "      <th></th>\n",
       "      <th>Date</th>\n",
       "      <th>Location</th>\n",
       "      <th>MinTemp</th>\n",
       "      <th>MaxTemp</th>\n",
       "      <th>Rainfall</th>\n",
       "      <th>Evaporation</th>\n",
       "      <th>Sunshine</th>\n",
       "      <th>WindGustDir</th>\n",
       "      <th>WindGustSpeed</th>\n",
       "      <th>WindDir9am</th>\n",
       "      <th>...</th>\n",
       "      <th>Humidity9am</th>\n",
       "      <th>Humidity3pm</th>\n",
       "      <th>Pressure9am</th>\n",
       "      <th>Pressure3pm</th>\n",
       "      <th>Cloud9am</th>\n",
       "      <th>Cloud3pm</th>\n",
       "      <th>Temp9am</th>\n",
       "      <th>Temp3pm</th>\n",
       "      <th>RainToday</th>\n",
       "      <th>RainTomorrow</th>\n",
       "    </tr>\n",
       "  </thead>\n",
       "  <tbody>\n",
       "    <tr>\n",
       "      <th>0</th>\n",
       "      <td>2008-12-01</td>\n",
       "      <td>Albury</td>\n",
       "      <td>13.4</td>\n",
       "      <td>22.9</td>\n",
       "      <td>0.6</td>\n",
       "      <td>NaN</td>\n",
       "      <td>NaN</td>\n",
       "      <td>W</td>\n",
       "      <td>44.0</td>\n",
       "      <td>W</td>\n",
       "      <td>...</td>\n",
       "      <td>71.0</td>\n",
       "      <td>22.0</td>\n",
       "      <td>1007.7</td>\n",
       "      <td>1007.1</td>\n",
       "      <td>8.0</td>\n",
       "      <td>NaN</td>\n",
       "      <td>16.9</td>\n",
       "      <td>21.8</td>\n",
       "      <td>No</td>\n",
       "      <td>No</td>\n",
       "    </tr>\n",
       "    <tr>\n",
       "      <th>1</th>\n",
       "      <td>2008-12-02</td>\n",
       "      <td>Albury</td>\n",
       "      <td>7.4</td>\n",
       "      <td>25.1</td>\n",
       "      <td>0.0</td>\n",
       "      <td>NaN</td>\n",
       "      <td>NaN</td>\n",
       "      <td>WNW</td>\n",
       "      <td>44.0</td>\n",
       "      <td>NNW</td>\n",
       "      <td>...</td>\n",
       "      <td>44.0</td>\n",
       "      <td>25.0</td>\n",
       "      <td>1010.6</td>\n",
       "      <td>1007.8</td>\n",
       "      <td>NaN</td>\n",
       "      <td>NaN</td>\n",
       "      <td>17.2</td>\n",
       "      <td>24.3</td>\n",
       "      <td>No</td>\n",
       "      <td>No</td>\n",
       "    </tr>\n",
       "    <tr>\n",
       "      <th>2</th>\n",
       "      <td>2008-12-03</td>\n",
       "      <td>Albury</td>\n",
       "      <td>12.9</td>\n",
       "      <td>25.7</td>\n",
       "      <td>0.0</td>\n",
       "      <td>NaN</td>\n",
       "      <td>NaN</td>\n",
       "      <td>WSW</td>\n",
       "      <td>46.0</td>\n",
       "      <td>W</td>\n",
       "      <td>...</td>\n",
       "      <td>38.0</td>\n",
       "      <td>30.0</td>\n",
       "      <td>1007.6</td>\n",
       "      <td>1008.7</td>\n",
       "      <td>NaN</td>\n",
       "      <td>2.0</td>\n",
       "      <td>21.0</td>\n",
       "      <td>23.2</td>\n",
       "      <td>No</td>\n",
       "      <td>No</td>\n",
       "    </tr>\n",
       "    <tr>\n",
       "      <th>3</th>\n",
       "      <td>2008-12-04</td>\n",
       "      <td>Albury</td>\n",
       "      <td>9.2</td>\n",
       "      <td>28.0</td>\n",
       "      <td>0.0</td>\n",
       "      <td>NaN</td>\n",
       "      <td>NaN</td>\n",
       "      <td>NE</td>\n",
       "      <td>24.0</td>\n",
       "      <td>SE</td>\n",
       "      <td>...</td>\n",
       "      <td>45.0</td>\n",
       "      <td>16.0</td>\n",
       "      <td>1017.6</td>\n",
       "      <td>1012.8</td>\n",
       "      <td>NaN</td>\n",
       "      <td>NaN</td>\n",
       "      <td>18.1</td>\n",
       "      <td>26.5</td>\n",
       "      <td>No</td>\n",
       "      <td>No</td>\n",
       "    </tr>\n",
       "    <tr>\n",
       "      <th>4</th>\n",
       "      <td>2008-12-05</td>\n",
       "      <td>Albury</td>\n",
       "      <td>17.5</td>\n",
       "      <td>32.3</td>\n",
       "      <td>1.0</td>\n",
       "      <td>NaN</td>\n",
       "      <td>NaN</td>\n",
       "      <td>W</td>\n",
       "      <td>41.0</td>\n",
       "      <td>ENE</td>\n",
       "      <td>...</td>\n",
       "      <td>82.0</td>\n",
       "      <td>33.0</td>\n",
       "      <td>1010.8</td>\n",
       "      <td>1006.0</td>\n",
       "      <td>7.0</td>\n",
       "      <td>8.0</td>\n",
       "      <td>17.8</td>\n",
       "      <td>29.7</td>\n",
       "      <td>No</td>\n",
       "      <td>No</td>\n",
       "    </tr>\n",
       "    <tr>\n",
       "      <th>...</th>\n",
       "      <td>...</td>\n",
       "      <td>...</td>\n",
       "      <td>...</td>\n",
       "      <td>...</td>\n",
       "      <td>...</td>\n",
       "      <td>...</td>\n",
       "      <td>...</td>\n",
       "      <td>...</td>\n",
       "      <td>...</td>\n",
       "      <td>...</td>\n",
       "      <td>...</td>\n",
       "      <td>...</td>\n",
       "      <td>...</td>\n",
       "      <td>...</td>\n",
       "      <td>...</td>\n",
       "      <td>...</td>\n",
       "      <td>...</td>\n",
       "      <td>...</td>\n",
       "      <td>...</td>\n",
       "      <td>...</td>\n",
       "      <td>...</td>\n",
       "    </tr>\n",
       "    <tr>\n",
       "      <th>8420</th>\n",
       "      <td>2017-06-21</td>\n",
       "      <td>Uluru</td>\n",
       "      <td>2.8</td>\n",
       "      <td>23.4</td>\n",
       "      <td>0.0</td>\n",
       "      <td>NaN</td>\n",
       "      <td>NaN</td>\n",
       "      <td>E</td>\n",
       "      <td>31.0</td>\n",
       "      <td>SE</td>\n",
       "      <td>...</td>\n",
       "      <td>51.0</td>\n",
       "      <td>24.0</td>\n",
       "      <td>1024.6</td>\n",
       "      <td>1020.3</td>\n",
       "      <td>NaN</td>\n",
       "      <td>NaN</td>\n",
       "      <td>10.1</td>\n",
       "      <td>22.4</td>\n",
       "      <td>No</td>\n",
       "      <td>No</td>\n",
       "    </tr>\n",
       "    <tr>\n",
       "      <th>8421</th>\n",
       "      <td>2017-06-22</td>\n",
       "      <td>Uluru</td>\n",
       "      <td>3.6</td>\n",
       "      <td>25.3</td>\n",
       "      <td>0.0</td>\n",
       "      <td>NaN</td>\n",
       "      <td>NaN</td>\n",
       "      <td>NNW</td>\n",
       "      <td>22.0</td>\n",
       "      <td>SE</td>\n",
       "      <td>...</td>\n",
       "      <td>56.0</td>\n",
       "      <td>21.0</td>\n",
       "      <td>1023.5</td>\n",
       "      <td>1019.1</td>\n",
       "      <td>NaN</td>\n",
       "      <td>NaN</td>\n",
       "      <td>10.9</td>\n",
       "      <td>24.5</td>\n",
       "      <td>No</td>\n",
       "      <td>No</td>\n",
       "    </tr>\n",
       "    <tr>\n",
       "      <th>8422</th>\n",
       "      <td>2017-06-23</td>\n",
       "      <td>Uluru</td>\n",
       "      <td>5.4</td>\n",
       "      <td>26.9</td>\n",
       "      <td>0.0</td>\n",
       "      <td>NaN</td>\n",
       "      <td>NaN</td>\n",
       "      <td>N</td>\n",
       "      <td>37.0</td>\n",
       "      <td>SE</td>\n",
       "      <td>...</td>\n",
       "      <td>53.0</td>\n",
       "      <td>24.0</td>\n",
       "      <td>1021.0</td>\n",
       "      <td>1016.8</td>\n",
       "      <td>NaN</td>\n",
       "      <td>NaN</td>\n",
       "      <td>12.5</td>\n",
       "      <td>26.1</td>\n",
       "      <td>No</td>\n",
       "      <td>No</td>\n",
       "    </tr>\n",
       "    <tr>\n",
       "      <th>8423</th>\n",
       "      <td>2017-06-24</td>\n",
       "      <td>Uluru</td>\n",
       "      <td>7.8</td>\n",
       "      <td>27.0</td>\n",
       "      <td>0.0</td>\n",
       "      <td>NaN</td>\n",
       "      <td>NaN</td>\n",
       "      <td>SE</td>\n",
       "      <td>28.0</td>\n",
       "      <td>SSE</td>\n",
       "      <td>...</td>\n",
       "      <td>51.0</td>\n",
       "      <td>24.0</td>\n",
       "      <td>1019.4</td>\n",
       "      <td>1016.5</td>\n",
       "      <td>3.0</td>\n",
       "      <td>2.0</td>\n",
       "      <td>15.1</td>\n",
       "      <td>26.0</td>\n",
       "      <td>No</td>\n",
       "      <td>No</td>\n",
       "    </tr>\n",
       "    <tr>\n",
       "      <th>8424</th>\n",
       "      <td>2017-06-25</td>\n",
       "      <td>Uluru</td>\n",
       "      <td>14.9</td>\n",
       "      <td>NaN</td>\n",
       "      <td>0.0</td>\n",
       "      <td>NaN</td>\n",
       "      <td>NaN</td>\n",
       "      <td>NaN</td>\n",
       "      <td>NaN</td>\n",
       "      <td>ESE</td>\n",
       "      <td>...</td>\n",
       "      <td>62.0</td>\n",
       "      <td>36.0</td>\n",
       "      <td>1020.2</td>\n",
       "      <td>1017.9</td>\n",
       "      <td>8.0</td>\n",
       "      <td>8.0</td>\n",
       "      <td>15.0</td>\n",
       "      <td>20.9</td>\n",
       "      <td>No</td>\n",
       "      <td>NaN</td>\n",
       "    </tr>\n",
       "  </tbody>\n",
       "</table>\n",
       "<p>8425 rows × 23 columns</p>\n",
       "</div>"
      ],
      "text/plain": [
       "            Date Location  MinTemp  MaxTemp  Rainfall  Evaporation  Sunshine  \\\n",
       "0     2008-12-01   Albury     13.4     22.9       0.6          NaN       NaN   \n",
       "1     2008-12-02   Albury      7.4     25.1       0.0          NaN       NaN   \n",
       "2     2008-12-03   Albury     12.9     25.7       0.0          NaN       NaN   \n",
       "3     2008-12-04   Albury      9.2     28.0       0.0          NaN       NaN   \n",
       "4     2008-12-05   Albury     17.5     32.3       1.0          NaN       NaN   \n",
       "...          ...      ...      ...      ...       ...          ...       ...   \n",
       "8420  2017-06-21    Uluru      2.8     23.4       0.0          NaN       NaN   \n",
       "8421  2017-06-22    Uluru      3.6     25.3       0.0          NaN       NaN   \n",
       "8422  2017-06-23    Uluru      5.4     26.9       0.0          NaN       NaN   \n",
       "8423  2017-06-24    Uluru      7.8     27.0       0.0          NaN       NaN   \n",
       "8424  2017-06-25    Uluru     14.9      NaN       0.0          NaN       NaN   \n",
       "\n",
       "     WindGustDir  WindGustSpeed WindDir9am  ... Humidity9am  Humidity3pm  \\\n",
       "0              W           44.0          W  ...        71.0         22.0   \n",
       "1            WNW           44.0        NNW  ...        44.0         25.0   \n",
       "2            WSW           46.0          W  ...        38.0         30.0   \n",
       "3             NE           24.0         SE  ...        45.0         16.0   \n",
       "4              W           41.0        ENE  ...        82.0         33.0   \n",
       "...          ...            ...        ...  ...         ...          ...   \n",
       "8420           E           31.0         SE  ...        51.0         24.0   \n",
       "8421         NNW           22.0         SE  ...        56.0         21.0   \n",
       "8422           N           37.0         SE  ...        53.0         24.0   \n",
       "8423          SE           28.0        SSE  ...        51.0         24.0   \n",
       "8424         NaN            NaN        ESE  ...        62.0         36.0   \n",
       "\n",
       "      Pressure9am  Pressure3pm  Cloud9am  Cloud3pm  Temp9am  Temp3pm  \\\n",
       "0          1007.7       1007.1       8.0       NaN     16.9     21.8   \n",
       "1          1010.6       1007.8       NaN       NaN     17.2     24.3   \n",
       "2          1007.6       1008.7       NaN       2.0     21.0     23.2   \n",
       "3          1017.6       1012.8       NaN       NaN     18.1     26.5   \n",
       "4          1010.8       1006.0       7.0       8.0     17.8     29.7   \n",
       "...           ...          ...       ...       ...      ...      ...   \n",
       "8420       1024.6       1020.3       NaN       NaN     10.1     22.4   \n",
       "8421       1023.5       1019.1       NaN       NaN     10.9     24.5   \n",
       "8422       1021.0       1016.8       NaN       NaN     12.5     26.1   \n",
       "8423       1019.4       1016.5       3.0       2.0     15.1     26.0   \n",
       "8424       1020.2       1017.9       8.0       8.0     15.0     20.9   \n",
       "\n",
       "      RainToday  RainTomorrow  \n",
       "0            No            No  \n",
       "1            No            No  \n",
       "2            No            No  \n",
       "3            No            No  \n",
       "4            No            No  \n",
       "...         ...           ...  \n",
       "8420         No            No  \n",
       "8421         No            No  \n",
       "8422         No            No  \n",
       "8423         No            No  \n",
       "8424         No           NaN  \n",
       "\n",
       "[8425 rows x 23 columns]"
      ]
     },
     "execution_count": 149,
     "metadata": {},
     "output_type": "execute_result"
    }
   ],
   "source": [
    "df = pd.read_csv('https://raw.githubusercontent.com/dsrscientist/dataset3/main/weatherAUS.csv')\n",
    "df"
   ]
  },
  {
   "cell_type": "markdown",
   "id": "27b13274",
   "metadata": {},
   "source": [
    "### EDA"
   ]
  },
  {
   "cell_type": "code",
   "execution_count": 150,
   "id": "c20b4773",
   "metadata": {},
   "outputs": [
    {
     "data": {
      "text/html": [
       "<div>\n",
       "<style scoped>\n",
       "    .dataframe tbody tr th:only-of-type {\n",
       "        vertical-align: middle;\n",
       "    }\n",
       "\n",
       "    .dataframe tbody tr th {\n",
       "        vertical-align: top;\n",
       "    }\n",
       "\n",
       "    .dataframe thead th {\n",
       "        text-align: right;\n",
       "    }\n",
       "</style>\n",
       "<table border=\"1\" class=\"dataframe\">\n",
       "  <thead>\n",
       "    <tr style=\"text-align: right;\">\n",
       "      <th></th>\n",
       "      <th>MinTemp</th>\n",
       "      <th>MaxTemp</th>\n",
       "      <th>Rainfall</th>\n",
       "      <th>Evaporation</th>\n",
       "      <th>Sunshine</th>\n",
       "      <th>WindGustSpeed</th>\n",
       "      <th>WindSpeed9am</th>\n",
       "      <th>WindSpeed3pm</th>\n",
       "      <th>Humidity9am</th>\n",
       "      <th>Humidity3pm</th>\n",
       "      <th>Pressure9am</th>\n",
       "      <th>Pressure3pm</th>\n",
       "      <th>Cloud9am</th>\n",
       "      <th>Cloud3pm</th>\n",
       "      <th>Temp9am</th>\n",
       "      <th>Temp3pm</th>\n",
       "    </tr>\n",
       "  </thead>\n",
       "  <tbody>\n",
       "    <tr>\n",
       "      <th>count</th>\n",
       "      <td>8350.000000</td>\n",
       "      <td>8365.000000</td>\n",
       "      <td>8185.000000</td>\n",
       "      <td>4913.000000</td>\n",
       "      <td>4431.000000</td>\n",
       "      <td>7434.000000</td>\n",
       "      <td>8349.000000</td>\n",
       "      <td>8318.000000</td>\n",
       "      <td>8366.000000</td>\n",
       "      <td>8323.000000</td>\n",
       "      <td>7116.000000</td>\n",
       "      <td>7113.000000</td>\n",
       "      <td>6004.000000</td>\n",
       "      <td>5970.000000</td>\n",
       "      <td>8369.000000</td>\n",
       "      <td>8329.000000</td>\n",
       "    </tr>\n",
       "    <tr>\n",
       "      <th>mean</th>\n",
       "      <td>13.193305</td>\n",
       "      <td>23.859976</td>\n",
       "      <td>2.805913</td>\n",
       "      <td>5.389395</td>\n",
       "      <td>7.632205</td>\n",
       "      <td>40.174469</td>\n",
       "      <td>13.847646</td>\n",
       "      <td>18.533662</td>\n",
       "      <td>67.822496</td>\n",
       "      <td>51.249790</td>\n",
       "      <td>1017.640233</td>\n",
       "      <td>1015.236075</td>\n",
       "      <td>4.566622</td>\n",
       "      <td>4.503183</td>\n",
       "      <td>17.762015</td>\n",
       "      <td>22.442934</td>\n",
       "    </tr>\n",
       "    <tr>\n",
       "      <th>std</th>\n",
       "      <td>5.403596</td>\n",
       "      <td>6.136408</td>\n",
       "      <td>10.459379</td>\n",
       "      <td>5.044484</td>\n",
       "      <td>3.896235</td>\n",
       "      <td>14.665721</td>\n",
       "      <td>10.174579</td>\n",
       "      <td>9.766986</td>\n",
       "      <td>16.833283</td>\n",
       "      <td>18.423774</td>\n",
       "      <td>6.828699</td>\n",
       "      <td>6.766681</td>\n",
       "      <td>2.877658</td>\n",
       "      <td>2.731659</td>\n",
       "      <td>5.627035</td>\n",
       "      <td>5.980020</td>\n",
       "    </tr>\n",
       "    <tr>\n",
       "      <th>min</th>\n",
       "      <td>-2.000000</td>\n",
       "      <td>8.200000</td>\n",
       "      <td>0.000000</td>\n",
       "      <td>0.000000</td>\n",
       "      <td>0.000000</td>\n",
       "      <td>7.000000</td>\n",
       "      <td>0.000000</td>\n",
       "      <td>0.000000</td>\n",
       "      <td>10.000000</td>\n",
       "      <td>6.000000</td>\n",
       "      <td>989.800000</td>\n",
       "      <td>982.900000</td>\n",
       "      <td>0.000000</td>\n",
       "      <td>0.000000</td>\n",
       "      <td>1.900000</td>\n",
       "      <td>7.300000</td>\n",
       "    </tr>\n",
       "    <tr>\n",
       "      <th>25%</th>\n",
       "      <td>9.200000</td>\n",
       "      <td>19.300000</td>\n",
       "      <td>0.000000</td>\n",
       "      <td>2.600000</td>\n",
       "      <td>4.750000</td>\n",
       "      <td>30.000000</td>\n",
       "      <td>6.000000</td>\n",
       "      <td>11.000000</td>\n",
       "      <td>56.000000</td>\n",
       "      <td>39.000000</td>\n",
       "      <td>1013.000000</td>\n",
       "      <td>1010.400000</td>\n",
       "      <td>1.000000</td>\n",
       "      <td>2.000000</td>\n",
       "      <td>13.800000</td>\n",
       "      <td>18.000000</td>\n",
       "    </tr>\n",
       "    <tr>\n",
       "      <th>50%</th>\n",
       "      <td>13.300000</td>\n",
       "      <td>23.300000</td>\n",
       "      <td>0.000000</td>\n",
       "      <td>4.600000</td>\n",
       "      <td>8.700000</td>\n",
       "      <td>39.000000</td>\n",
       "      <td>13.000000</td>\n",
       "      <td>19.000000</td>\n",
       "      <td>68.000000</td>\n",
       "      <td>51.000000</td>\n",
       "      <td>1017.700000</td>\n",
       "      <td>1015.300000</td>\n",
       "      <td>5.000000</td>\n",
       "      <td>5.000000</td>\n",
       "      <td>17.800000</td>\n",
       "      <td>21.900000</td>\n",
       "    </tr>\n",
       "    <tr>\n",
       "      <th>75%</th>\n",
       "      <td>17.400000</td>\n",
       "      <td>28.000000</td>\n",
       "      <td>1.000000</td>\n",
       "      <td>7.000000</td>\n",
       "      <td>10.700000</td>\n",
       "      <td>50.000000</td>\n",
       "      <td>20.000000</td>\n",
       "      <td>24.000000</td>\n",
       "      <td>80.000000</td>\n",
       "      <td>63.000000</td>\n",
       "      <td>1022.300000</td>\n",
       "      <td>1019.800000</td>\n",
       "      <td>7.000000</td>\n",
       "      <td>7.000000</td>\n",
       "      <td>21.900000</td>\n",
       "      <td>26.400000</td>\n",
       "    </tr>\n",
       "    <tr>\n",
       "      <th>max</th>\n",
       "      <td>28.500000</td>\n",
       "      <td>45.500000</td>\n",
       "      <td>371.000000</td>\n",
       "      <td>145.000000</td>\n",
       "      <td>13.900000</td>\n",
       "      <td>107.000000</td>\n",
       "      <td>63.000000</td>\n",
       "      <td>83.000000</td>\n",
       "      <td>100.000000</td>\n",
       "      <td>99.000000</td>\n",
       "      <td>1039.000000</td>\n",
       "      <td>1036.000000</td>\n",
       "      <td>8.000000</td>\n",
       "      <td>8.000000</td>\n",
       "      <td>39.400000</td>\n",
       "      <td>44.100000</td>\n",
       "    </tr>\n",
       "  </tbody>\n",
       "</table>\n",
       "</div>"
      ],
      "text/plain": [
       "           MinTemp      MaxTemp     Rainfall  Evaporation     Sunshine  \\\n",
       "count  8350.000000  8365.000000  8185.000000  4913.000000  4431.000000   \n",
       "mean     13.193305    23.859976     2.805913     5.389395     7.632205   \n",
       "std       5.403596     6.136408    10.459379     5.044484     3.896235   \n",
       "min      -2.000000     8.200000     0.000000     0.000000     0.000000   \n",
       "25%       9.200000    19.300000     0.000000     2.600000     4.750000   \n",
       "50%      13.300000    23.300000     0.000000     4.600000     8.700000   \n",
       "75%      17.400000    28.000000     1.000000     7.000000    10.700000   \n",
       "max      28.500000    45.500000   371.000000   145.000000    13.900000   \n",
       "\n",
       "       WindGustSpeed  WindSpeed9am  WindSpeed3pm  Humidity9am  Humidity3pm  \\\n",
       "count    7434.000000   8349.000000   8318.000000  8366.000000  8323.000000   \n",
       "mean       40.174469     13.847646     18.533662    67.822496    51.249790   \n",
       "std        14.665721     10.174579      9.766986    16.833283    18.423774   \n",
       "min         7.000000      0.000000      0.000000    10.000000     6.000000   \n",
       "25%        30.000000      6.000000     11.000000    56.000000    39.000000   \n",
       "50%        39.000000     13.000000     19.000000    68.000000    51.000000   \n",
       "75%        50.000000     20.000000     24.000000    80.000000    63.000000   \n",
       "max       107.000000     63.000000     83.000000   100.000000    99.000000   \n",
       "\n",
       "       Pressure9am  Pressure3pm     Cloud9am     Cloud3pm      Temp9am  \\\n",
       "count  7116.000000  7113.000000  6004.000000  5970.000000  8369.000000   \n",
       "mean   1017.640233  1015.236075     4.566622     4.503183    17.762015   \n",
       "std       6.828699     6.766681     2.877658     2.731659     5.627035   \n",
       "min     989.800000   982.900000     0.000000     0.000000     1.900000   \n",
       "25%    1013.000000  1010.400000     1.000000     2.000000    13.800000   \n",
       "50%    1017.700000  1015.300000     5.000000     5.000000    17.800000   \n",
       "75%    1022.300000  1019.800000     7.000000     7.000000    21.900000   \n",
       "max    1039.000000  1036.000000     8.000000     8.000000    39.400000   \n",
       "\n",
       "           Temp3pm  \n",
       "count  8329.000000  \n",
       "mean     22.442934  \n",
       "std       5.980020  \n",
       "min       7.300000  \n",
       "25%      18.000000  \n",
       "50%      21.900000  \n",
       "75%      26.400000  \n",
       "max      44.100000  "
      ]
     },
     "execution_count": 150,
     "metadata": {},
     "output_type": "execute_result"
    }
   ],
   "source": [
    "df.describe() "
   ]
  },
  {
   "cell_type": "code",
   "execution_count": 151,
   "id": "f097d711",
   "metadata": {},
   "outputs": [
    {
     "name": "stdout",
     "output_type": "stream",
     "text": [
      "<class 'pandas.core.frame.DataFrame'>\n",
      "RangeIndex: 8425 entries, 0 to 8424\n",
      "Data columns (total 23 columns):\n",
      " #   Column         Non-Null Count  Dtype  \n",
      "---  ------         --------------  -----  \n",
      " 0   Date           8425 non-null   object \n",
      " 1   Location       8425 non-null   object \n",
      " 2   MinTemp        8350 non-null   float64\n",
      " 3   MaxTemp        8365 non-null   float64\n",
      " 4   Rainfall       8185 non-null   float64\n",
      " 5   Evaporation    4913 non-null   float64\n",
      " 6   Sunshine       4431 non-null   float64\n",
      " 7   WindGustDir    7434 non-null   object \n",
      " 8   WindGustSpeed  7434 non-null   float64\n",
      " 9   WindDir9am     7596 non-null   object \n",
      " 10  WindDir3pm     8117 non-null   object \n",
      " 11  WindSpeed9am   8349 non-null   float64\n",
      " 12  WindSpeed3pm   8318 non-null   float64\n",
      " 13  Humidity9am    8366 non-null   float64\n",
      " 14  Humidity3pm    8323 non-null   float64\n",
      " 15  Pressure9am    7116 non-null   float64\n",
      " 16  Pressure3pm    7113 non-null   float64\n",
      " 17  Cloud9am       6004 non-null   float64\n",
      " 18  Cloud3pm       5970 non-null   float64\n",
      " 19  Temp9am        8369 non-null   float64\n",
      " 20  Temp3pm        8329 non-null   float64\n",
      " 21  RainToday      8185 non-null   object \n",
      " 22  RainTomorrow   8186 non-null   object \n",
      "dtypes: float64(16), object(7)\n",
      "memory usage: 1.5+ MB\n"
     ]
    }
   ],
   "source": [
    "df.info()"
   ]
  },
  {
   "cell_type": "code",
   "execution_count": 152,
   "id": "37e24350",
   "metadata": {},
   "outputs": [
    {
     "data": {
      "text/plain": [
       "Date              object\n",
       "Location          object\n",
       "MinTemp          float64\n",
       "MaxTemp          float64\n",
       "Rainfall         float64\n",
       "Evaporation      float64\n",
       "Sunshine         float64\n",
       "WindGustDir       object\n",
       "WindGustSpeed    float64\n",
       "WindDir9am        object\n",
       "WindDir3pm        object\n",
       "WindSpeed9am     float64\n",
       "WindSpeed3pm     float64\n",
       "Humidity9am      float64\n",
       "Humidity3pm      float64\n",
       "Pressure9am      float64\n",
       "Pressure3pm      float64\n",
       "Cloud9am         float64\n",
       "Cloud3pm         float64\n",
       "Temp9am          float64\n",
       "Temp3pm          float64\n",
       "RainToday         object\n",
       "RainTomorrow      object\n",
       "dtype: object"
      ]
     },
     "execution_count": 152,
     "metadata": {},
     "output_type": "execute_result"
    }
   ],
   "source": [
    "df.dtypes"
   ]
  },
  {
   "cell_type": "code",
   "execution_count": 153,
   "id": "f1af831d",
   "metadata": {},
   "outputs": [
    {
     "data": {
      "text/plain": [
       "Date                0\n",
       "Location            0\n",
       "MinTemp            75\n",
       "MaxTemp            60\n",
       "Rainfall          240\n",
       "Evaporation      3512\n",
       "Sunshine         3994\n",
       "WindGustDir       991\n",
       "WindGustSpeed     991\n",
       "WindDir9am        829\n",
       "WindDir3pm        308\n",
       "WindSpeed9am       76\n",
       "WindSpeed3pm      107\n",
       "Humidity9am        59\n",
       "Humidity3pm       102\n",
       "Pressure9am      1309\n",
       "Pressure3pm      1312\n",
       "Cloud9am         2421\n",
       "Cloud3pm         2455\n",
       "Temp9am            56\n",
       "Temp3pm            96\n",
       "RainToday         240\n",
       "RainTomorrow      239\n",
       "dtype: int64"
      ]
     },
     "execution_count": 153,
     "metadata": {},
     "output_type": "execute_result"
    }
   ],
   "source": [
    "df.isnull().sum()"
   ]
  },
  {
   "cell_type": "code",
   "execution_count": 154,
   "id": "645ab073",
   "metadata": {},
   "outputs": [
    {
     "data": {
      "text/plain": [
       "(8425, 23)"
      ]
     },
     "execution_count": 154,
     "metadata": {},
     "output_type": "execute_result"
    }
   ],
   "source": [
    "df.shape"
   ]
  },
  {
   "cell_type": "markdown",
   "id": "423b5d44",
   "metadata": {},
   "source": [
    "### To check the num of unique values in each column"
   ]
  },
  {
   "cell_type": "code",
   "execution_count": 155,
   "id": "76ffc345",
   "metadata": {},
   "outputs": [
    {
     "data": {
      "text/html": [
       "<div>\n",
       "<style scoped>\n",
       "    .dataframe tbody tr th:only-of-type {\n",
       "        vertical-align: middle;\n",
       "    }\n",
       "\n",
       "    .dataframe tbody tr th {\n",
       "        vertical-align: top;\n",
       "    }\n",
       "\n",
       "    .dataframe thead th {\n",
       "        text-align: right;\n",
       "    }\n",
       "</style>\n",
       "<table border=\"1\" class=\"dataframe\">\n",
       "  <thead>\n",
       "    <tr style=\"text-align: right;\">\n",
       "      <th></th>\n",
       "      <th>No of unique values</th>\n",
       "    </tr>\n",
       "  </thead>\n",
       "  <tbody>\n",
       "    <tr>\n",
       "      <th>Date</th>\n",
       "      <td>3004</td>\n",
       "    </tr>\n",
       "    <tr>\n",
       "      <th>Location</th>\n",
       "      <td>12</td>\n",
       "    </tr>\n",
       "    <tr>\n",
       "      <th>MinTemp</th>\n",
       "      <td>285</td>\n",
       "    </tr>\n",
       "    <tr>\n",
       "      <th>MaxTemp</th>\n",
       "      <td>331</td>\n",
       "    </tr>\n",
       "    <tr>\n",
       "      <th>Rainfall</th>\n",
       "      <td>250</td>\n",
       "    </tr>\n",
       "    <tr>\n",
       "      <th>Evaporation</th>\n",
       "      <td>116</td>\n",
       "    </tr>\n",
       "    <tr>\n",
       "      <th>Sunshine</th>\n",
       "      <td>140</td>\n",
       "    </tr>\n",
       "    <tr>\n",
       "      <th>WindGustDir</th>\n",
       "      <td>16</td>\n",
       "    </tr>\n",
       "    <tr>\n",
       "      <th>WindGustSpeed</th>\n",
       "      <td>52</td>\n",
       "    </tr>\n",
       "    <tr>\n",
       "      <th>WindDir9am</th>\n",
       "      <td>16</td>\n",
       "    </tr>\n",
       "    <tr>\n",
       "      <th>WindDir3pm</th>\n",
       "      <td>16</td>\n",
       "    </tr>\n",
       "    <tr>\n",
       "      <th>WindSpeed9am</th>\n",
       "      <td>34</td>\n",
       "    </tr>\n",
       "    <tr>\n",
       "      <th>WindSpeed3pm</th>\n",
       "      <td>35</td>\n",
       "    </tr>\n",
       "    <tr>\n",
       "      <th>Humidity9am</th>\n",
       "      <td>90</td>\n",
       "    </tr>\n",
       "    <tr>\n",
       "      <th>Humidity3pm</th>\n",
       "      <td>94</td>\n",
       "    </tr>\n",
       "    <tr>\n",
       "      <th>Pressure9am</th>\n",
       "      <td>384</td>\n",
       "    </tr>\n",
       "    <tr>\n",
       "      <th>Pressure3pm</th>\n",
       "      <td>374</td>\n",
       "    </tr>\n",
       "    <tr>\n",
       "      <th>Cloud9am</th>\n",
       "      <td>9</td>\n",
       "    </tr>\n",
       "    <tr>\n",
       "      <th>Cloud3pm</th>\n",
       "      <td>9</td>\n",
       "    </tr>\n",
       "    <tr>\n",
       "      <th>Temp9am</th>\n",
       "      <td>304</td>\n",
       "    </tr>\n",
       "    <tr>\n",
       "      <th>Temp3pm</th>\n",
       "      <td>328</td>\n",
       "    </tr>\n",
       "    <tr>\n",
       "      <th>RainToday</th>\n",
       "      <td>2</td>\n",
       "    </tr>\n",
       "    <tr>\n",
       "      <th>RainTomorrow</th>\n",
       "      <td>2</td>\n",
       "    </tr>\n",
       "  </tbody>\n",
       "</table>\n",
       "</div>"
      ],
      "text/plain": [
       "               No of unique values\n",
       "Date                          3004\n",
       "Location                        12\n",
       "MinTemp                        285\n",
       "MaxTemp                        331\n",
       "Rainfall                       250\n",
       "Evaporation                    116\n",
       "Sunshine                       140\n",
       "WindGustDir                     16\n",
       "WindGustSpeed                   52\n",
       "WindDir9am                      16\n",
       "WindDir3pm                      16\n",
       "WindSpeed9am                    34\n",
       "WindSpeed3pm                    35\n",
       "Humidity9am                     90\n",
       "Humidity3pm                     94\n",
       "Pressure9am                    384\n",
       "Pressure3pm                    374\n",
       "Cloud9am                         9\n",
       "Cloud3pm                         9\n",
       "Temp9am                        304\n",
       "Temp3pm                        328\n",
       "RainToday                        2\n",
       "RainTomorrow                     2"
      ]
     },
     "execution_count": 155,
     "metadata": {},
     "output_type": "execute_result"
    }
   ],
   "source": [
    "df.nunique().to_frame('No of unique values')"
   ]
  },
  {
   "cell_type": "markdown",
   "id": "553530e2",
   "metadata": {},
   "source": [
    "### Observations :\n",
    "\n",
    "* Almost all columns have null values\n",
    "\n",
    "* 8425 rows n 23 coumns\n",
    "\n",
    "* Some columns r object & some r float64 type"
   ]
  },
  {
   "cell_type": "markdown",
   "id": "b61216f1",
   "metadata": {},
   "source": [
    "### checking the values of each column\n"
   ]
  },
  {
   "cell_type": "code",
   "execution_count": 156,
   "id": "c13f085f",
   "metadata": {},
   "outputs": [
    {
     "name": "stdout",
     "output_type": "stream",
     "text": [
      "2011-01-31    5\n",
      "2011-05-08    5\n",
      "2011-05-21    5\n",
      "2011-05-20    5\n",
      "2011-05-19    5\n",
      "             ..\n",
      "2013-01-28    1\n",
      "2013-01-29    1\n",
      "2013-01-30    1\n",
      "2013-01-31    1\n",
      "2013-06-08    1\n",
      "Name: Date, Length: 3004, dtype: int64\n",
      "\n",
      "\n",
      "Melbourne       1622\n",
      "Williamtown     1230\n",
      "PerthAirport    1204\n",
      "Albury           907\n",
      "Newcastle        822\n",
      "CoffsHarbour     611\n",
      "Brisbane         579\n",
      "Penrith          482\n",
      "Wollongong       474\n",
      "Darwin           250\n",
      "Adelaide         205\n",
      "Uluru             39\n",
      "Name: Location, dtype: int64\n",
      "\n",
      "\n",
      " 12.0    74\n",
      " 13.2    71\n",
      " 13.8    69\n",
      " 12.7    68\n",
      " 16.4    67\n",
      "         ..\n",
      " 0.3      1\n",
      " 28.3     1\n",
      "-1.1      1\n",
      "-1.4      1\n",
      " 26.0     1\n",
      "Name: MinTemp, Length: 285, dtype: int64\n",
      "\n",
      "\n",
      "19.0    87\n",
      "23.8    75\n",
      "19.8    74\n",
      "25.0    71\n",
      "22.0    68\n",
      "        ..\n",
      "11.2     1\n",
      "43.1     1\n",
      "42.7     1\n",
      "42.9     1\n",
      "43.5     1\n",
      "Name: MaxTemp, Length: 331, dtype: int64\n",
      "\n",
      "\n",
      "0.0      5299\n",
      "0.2       406\n",
      "0.4       177\n",
      "0.6       116\n",
      "1.2        86\n",
      "         ... \n",
      "61.2        1\n",
      "128.0       1\n",
      "90.0        1\n",
      "34.4        1\n",
      "40.0        1\n",
      "Name: Rainfall, Length: 250, dtype: int64\n",
      "\n",
      "\n",
      "4.0     180\n",
      "3.0     163\n",
      "2.4     147\n",
      "2.2     146\n",
      "2.6     143\n",
      "       ... \n",
      "17.0      1\n",
      "18.6      1\n",
      "22.4      1\n",
      "19.2      1\n",
      "0.7       1\n",
      "Name: Evaporation, Length: 116, dtype: int64\n",
      "\n",
      "\n",
      "0.0     166\n",
      "11.1     68\n",
      "11.2     67\n",
      "11.0     66\n",
      "10.7     64\n",
      "       ... \n",
      "2.5       8\n",
      "13.6      7\n",
      "13.8      4\n",
      "13.9      3\n",
      "13.5      2\n",
      "Name: Sunshine, Length: 140, dtype: int64\n",
      "\n",
      "\n",
      "N      713\n",
      "SSE    578\n",
      "S      577\n",
      "SW     572\n",
      "E      557\n",
      "WNW    531\n",
      "W      507\n",
      "WSW    504\n",
      "SE     484\n",
      "ENE    415\n",
      "SSW    396\n",
      "NW     383\n",
      "NE     353\n",
      "NNE    343\n",
      "ESE    302\n",
      "NNW    219\n",
      "Name: WindGustDir, dtype: int64\n",
      "\n",
      "\n",
      "39.0     441\n",
      "35.0     435\n",
      "37.0     422\n",
      "33.0     408\n",
      "31.0     396\n",
      "41.0     371\n",
      "30.0     367\n",
      "28.0     332\n",
      "43.0     302\n",
      "48.0     292\n",
      "26.0     275\n",
      "50.0     259\n",
      "46.0     258\n",
      "24.0     255\n",
      "52.0     249\n",
      "44.0     241\n",
      "22.0     223\n",
      "54.0     210\n",
      "20.0     186\n",
      "56.0     153\n",
      "57.0     148\n",
      "19.0     137\n",
      "61.0     114\n",
      "59.0     113\n",
      "63.0      95\n",
      "17.0      92\n",
      "65.0      74\n",
      "67.0      64\n",
      "72.0      62\n",
      "15.0      58\n",
      "13.0      57\n",
      "74.0      54\n",
      "70.0      53\n",
      "69.0      49\n",
      "76.0      44\n",
      "78.0      23\n",
      "80.0      22\n",
      "11.0      18\n",
      "85.0      14\n",
      "81.0      13\n",
      "91.0      12\n",
      "93.0       7\n",
      "89.0       7\n",
      "83.0       6\n",
      "9.0        6\n",
      "98.0       4\n",
      "94.0       3\n",
      "87.0       3\n",
      "7.0        2\n",
      "102.0      2\n",
      "100.0      2\n",
      "107.0      1\n",
      "Name: WindGustSpeed, dtype: int64\n",
      "\n",
      "\n",
      "N      906\n",
      "SW     704\n",
      "NW     625\n",
      "WSW    543\n",
      "SE     505\n",
      "WNW    480\n",
      "SSW    467\n",
      "ENE    433\n",
      "NNE    430\n",
      "W      414\n",
      "NE     409\n",
      "S      402\n",
      "E      380\n",
      "SSE    365\n",
      "NNW    280\n",
      "ESE    253\n",
      "Name: WindDir9am, dtype: int64\n",
      "\n",
      "\n",
      "SE     813\n",
      "S      742\n",
      "SSE    623\n",
      "WSW    580\n",
      "NE     544\n",
      "N      524\n",
      "SW     494\n",
      "WNW    487\n",
      "NW     468\n",
      "W      462\n",
      "ESE    462\n",
      "E      460\n",
      "ENE    417\n",
      "SSW    370\n",
      "NNE    365\n",
      "NNW    306\n",
      "Name: WindDir3pm, dtype: int64\n",
      "\n",
      "\n",
      "9.0     803\n",
      "0.0     752\n",
      "13.0    708\n",
      "4.0     610\n",
      "11.0    607\n",
      "7.0     572\n",
      "6.0     515\n",
      "17.0    481\n",
      "15.0    467\n",
      "19.0    430\n",
      "20.0    427\n",
      "24.0    312\n",
      "22.0    279\n",
      "2.0     258\n",
      "28.0    229\n",
      "26.0    208\n",
      "31.0    153\n",
      "30.0    114\n",
      "35.0     77\n",
      "33.0     70\n",
      "37.0     58\n",
      "41.0     49\n",
      "39.0     35\n",
      "44.0     29\n",
      "43.0     28\n",
      "46.0     26\n",
      "52.0     16\n",
      "50.0     10\n",
      "56.0      8\n",
      "54.0      6\n",
      "48.0      6\n",
      "61.0      2\n",
      "57.0      2\n",
      "63.0      2\n",
      "Name: WindSpeed9am, dtype: int64\n",
      "\n",
      "\n",
      "9.0     724\n",
      "19.0    639\n",
      "13.0    599\n",
      "20.0    594\n",
      "17.0    555\n",
      "11.0    534\n",
      "15.0    524\n",
      "24.0    511\n",
      "28.0    458\n",
      "22.0    457\n",
      "26.0    378\n",
      "7.0     331\n",
      "4.0     287\n",
      "30.0    279\n",
      "31.0    266\n",
      "6.0     240\n",
      "0.0     199\n",
      "33.0    170\n",
      "35.0    137\n",
      "37.0    125\n",
      "39.0     80\n",
      "2.0      58\n",
      "41.0     45\n",
      "43.0     34\n",
      "46.0     29\n",
      "44.0     18\n",
      "50.0     12\n",
      "48.0     11\n",
      "52.0      9\n",
      "56.0      7\n",
      "54.0      2\n",
      "61.0      2\n",
      "57.0      2\n",
      "65.0      1\n",
      "83.0      1\n",
      "Name: WindSpeed3pm, dtype: int64\n",
      "\n",
      "\n",
      "73.0    205\n",
      "62.0    202\n",
      "68.0    199\n",
      "74.0    195\n",
      "70.0    188\n",
      "       ... \n",
      "17.0      2\n",
      "14.0      2\n",
      "11.0      2\n",
      "10.0      1\n",
      "15.0      1\n",
      "Name: Humidity9am, Length: 90, dtype: int64\n",
      "\n",
      "\n",
      "55.0    195\n",
      "48.0    194\n",
      "51.0    194\n",
      "46.0    193\n",
      "54.0    193\n",
      "       ... \n",
      "8.0      11\n",
      "7.0       9\n",
      "98.0      7\n",
      "99.0      3\n",
      "6.0       3\n",
      "Name: Humidity3pm, Length: 94, dtype: int64\n",
      "\n",
      "\n",
      "1014.8    58\n",
      "1019.2    55\n",
      "1016.1    54\n",
      "1019.6    53\n",
      "1020.0    49\n",
      "          ..\n",
      "1037.3     1\n",
      "997.8      1\n",
      "1036.9     1\n",
      "1036.3     1\n",
      "1033.6     1\n",
      "Name: Pressure9am, Length: 384, dtype: int64\n",
      "\n",
      "\n",
      "1017.8    60\n",
      "1018.0    57\n",
      "1019.8    53\n",
      "1017.9    53\n",
      "1015.5    52\n",
      "          ..\n",
      "982.9      1\n",
      "994.3      1\n",
      "998.9      1\n",
      "1030.0     1\n",
      "1029.5     1\n",
      "Name: Pressure3pm, Length: 374, dtype: int64\n",
      "\n",
      "\n",
      "7.0    1418\n",
      "1.0    1038\n",
      "8.0    1015\n",
      "0.0     554\n",
      "6.0     551\n",
      "5.0     414\n",
      "3.0     384\n",
      "2.0     357\n",
      "4.0     273\n",
      "Name: Cloud9am, dtype: int64\n",
      "\n",
      "\n",
      "7.0    1294\n",
      "1.0    1077\n",
      "8.0     863\n",
      "6.0     597\n",
      "5.0     522\n",
      "2.0     508\n",
      "3.0     411\n",
      "4.0     351\n",
      "0.0     347\n",
      "Name: Cloud3pm, dtype: int64\n",
      "\n",
      "\n",
      "14.8    77\n",
      "18.0    73\n",
      "18.3    71\n",
      "17.5    69\n",
      "20.6    68\n",
      "        ..\n",
      "2.5      1\n",
      "2.0      1\n",
      "3.4      1\n",
      "5.2      1\n",
      "30.2     1\n",
      "Name: Temp9am, Length: 304, dtype: int64\n",
      "\n",
      "\n",
      "19.2    78\n",
      "22.5    77\n",
      "19.0    75\n",
      "21.7    72\n",
      "18.5    72\n",
      "        ..\n",
      "37.4     1\n",
      "8.7      1\n",
      "36.7     1\n",
      "8.6      1\n",
      "42.4     1\n",
      "Name: Temp3pm, Length: 328, dtype: int64\n",
      "\n",
      "\n",
      "No     6195\n",
      "Yes    1990\n",
      "Name: RainToday, dtype: int64\n",
      "\n",
      "\n",
      "No     6195\n",
      "Yes    1991\n",
      "Name: RainTomorrow, dtype: int64\n",
      "\n",
      "\n"
     ]
    }
   ],
   "source": [
    "for i in df.columns:\n",
    "    print(df[i].value_counts())\n",
    "    print(\"\\n\")"
   ]
  },
  {
   "cell_type": "markdown",
   "id": "ff9ba078",
   "metadata": {},
   "source": [
    "### First impte the 'RainToday' and 'RainTomorrow' featres"
   ]
  },
  {
   "cell_type": "code",
   "execution_count": 157,
   "id": "42999ea8",
   "metadata": {},
   "outputs": [],
   "source": [
    "df['RainToday'].replace({'No': 0, 'Yes': 1},inplace = True)\n",
    "df['RainTomorrow'].replace({'No': 0, 'Yes': 1},inplace = True)"
   ]
  },
  {
   "cell_type": "markdown",
   "id": "47139242",
   "metadata": {},
   "source": [
    "### showing counts of our label by  using count plot"
   ]
  },
  {
   "cell_type": "code",
   "execution_count": 158,
   "id": "8377f78f",
   "metadata": {},
   "outputs": [
    {
     "data": {
      "image/png": "[encoded data removed]",
      "text/plain": [
       "<Figure size 576x360 with 1 Axes>"
      ]
     },
     "metadata": {
      "needs_background": "light"
     },
     "output_type": "display_data"
    }
   ],
   "source": [
    "fig = plt.figure(figsize = (8,5))\n",
    "df.RainTomorrow.value_counts(normalize = True).plot(kind='bar', color= ['skyblue','navy'], alpha = 0.9, rot=0)\n",
    "plt.title('RainTomorrow Indicator No(0) and Yes(1) in the Imbalanced Dataset')\n",
    "plt.show()"
   ]
  },
  {
   "cell_type": "markdown",
   "id": "4fdedb70",
   "metadata": {},
   "source": [
    "We can observe that the presence of “0” and “1” is almost in the 78:22 ratio. So there is a class imbalance and we have to deal with it. To fight against the class imbalance, we will use here the oversampling of the minority class. Since the size of the dataset is quite small, majority class subsampling wouldn’t make much sense here."
   ]
  },
  {
   "cell_type": "markdown",
   "id": "2b013d36",
   "metadata": {},
   "source": [
    "### Handling class imbalance"
   ]
  },
  {
   "cell_type": "code",
   "execution_count": 159,
   "id": "03ef3e39",
   "metadata": {},
   "outputs": [],
   "source": [
    "from sklearn.utils import resample"
   ]
  },
  {
   "cell_type": "code",
   "execution_count": 160,
   "id": "9b79564c",
   "metadata": {},
   "outputs": [
    {
     "data": {
      "image/png": "[encoded data removed]",
      "text/plain": [
       "<Figure size 576x360 with 1 Axes>"
      ]
     },
     "metadata": {
      "needs_background": "light"
     },
     "output_type": "display_data"
    }
   ],
   "source": [
    "no = df[df.RainTomorrow == 0]\n",
    "yes = df[df.RainTomorrow == 1]\n",
    "yes_oversampled = resample(yes, replace=True, n_samples=len(no), random_state=123)\n",
    "oversampled = pd.concat([no, yes_oversampled])\n",
    "\n",
    "fig = plt.figure(figsize = (8,5))\n",
    "oversampled.RainTomorrow.value_counts(normalize = True).plot(kind='bar', color= ['skyblue','navy'], alpha = 0.9, rot=0)\n",
    "plt.title('RainTomorrow Indicator No(0) and Yes(1) after Oversampling (Balanced Dataset)')\n",
    "plt.show()"
   ]
  },
  {
   "cell_type": "markdown",
   "id": "a686af50",
   "metadata": {},
   "source": [
    "### Deal with Missing Data"
   ]
  },
  {
   "cell_type": "code",
   "execution_count": 161,
   "id": "9365000b",
   "metadata": {},
   "outputs": [
    {
     "data": {
      "image/png": "[encoded data removed]",
      "text/plain": [
       "<Figure size 432x288 with 1 Axes>"
      ]
     },
     "metadata": {
      "needs_background": "light"
     },
     "output_type": "display_data"
    }
   ],
   "source": [
    "sns.heatmap(oversampled.isnull(), cbar=False, cmap='PuBu')\n",
    "plt.show()"
   ]
  },
  {
   "cell_type": "markdown",
   "id": "048b2feb",
   "metadata": {},
   "source": [
    "“Evaporation”, “Sunshine”, “Cloud9am”, “Cloud3pm” are the features with a high missing percentage. So we will check the details of the missing data for these 4 features."
   ]
  },
  {
   "cell_type": "code",
   "execution_count": 162,
   "id": "5f5ca1d6",
   "metadata": {},
   "outputs": [
    {
     "data": {
      "text/html": [
       "<div>\n",
       "<style scoped>\n",
       "    .dataframe tbody tr th:only-of-type {\n",
       "        vertical-align: middle;\n",
       "    }\n",
       "\n",
       "    .dataframe tbody tr th {\n",
       "        vertical-align: top;\n",
       "    }\n",
       "\n",
       "    .dataframe thead th {\n",
       "        text-align: right;\n",
       "    }\n",
       "</style>\n",
       "<table border=\"1\" class=\"dataframe\">\n",
       "  <thead>\n",
       "    <tr style=\"text-align: right;\">\n",
       "      <th></th>\n",
       "      <th>Total</th>\n",
       "      <th>Percent</th>\n",
       "    </tr>\n",
       "  </thead>\n",
       "  <tbody>\n",
       "    <tr>\n",
       "      <th>Sunshine</th>\n",
       "      <td>5886</td>\n",
       "      <td>0.475061</td>\n",
       "    </tr>\n",
       "    <tr>\n",
       "      <th>Evaporation</th>\n",
       "      <td>5186</td>\n",
       "      <td>0.418563</td>\n",
       "    </tr>\n",
       "    <tr>\n",
       "      <th>Cloud9am</th>\n",
       "      <td>3202</td>\n",
       "      <td>0.258434</td>\n",
       "    </tr>\n",
       "    <tr>\n",
       "      <th>Cloud3pm</th>\n",
       "      <td>3197</td>\n",
       "      <td>0.258031</td>\n",
       "    </tr>\n",
       "  </tbody>\n",
       "</table>\n",
       "</div>"
      ],
      "text/plain": [
       "             Total   Percent\n",
       "Sunshine      5886  0.475061\n",
       "Evaporation   5186  0.418563\n",
       "Cloud9am      3202  0.258434\n",
       "Cloud3pm      3197  0.258031"
      ]
     },
     "execution_count": 162,
     "metadata": {},
     "output_type": "execute_result"
    }
   ],
   "source": [
    "total = oversampled.isnull().sum().sort_values(ascending=False)\n",
    "percent = (oversampled.isnull().sum()/oversampled.isnull().count()).sort_values(ascending=False)\n",
    "missing = pd.concat([total, percent], axis=1, keys=['Total', 'Percent'])\n",
    "missing.head(4)"
   ]
  },
  {
   "cell_type": "markdown",
   "id": "a00aee88",
   "metadata": {},
   "source": [
    "4 features have less than 50 per cent missing data. So instead of rejecting them completely, we’ll consider them in our model with proper imputation."
   ]
  },
  {
   "cell_type": "markdown",
   "id": "08b916f2",
   "metadata": {},
   "source": [
    "### Imputation and Transformation"
   ]
  },
  {
   "cell_type": "code",
   "execution_count": 163,
   "id": "fcbe38e3",
   "metadata": {},
   "outputs": [
    {
     "data": {
      "text/plain": [
       "Index(['Date', 'Location', 'WindGustDir', 'WindDir9am', 'WindDir3pm'], dtype='object')"
      ]
     },
     "execution_count": 163,
     "metadata": {},
     "output_type": "execute_result"
    }
   ],
   "source": [
    "oversampled.select_dtypes(include=['object']).columns"
   ]
  },
  {
   "cell_type": "markdown",
   "id": "8e029a08",
   "metadata": {},
   "source": [
    "### Impute categorical var with Mode"
   ]
  },
  {
   "cell_type": "code",
   "execution_count": 164,
   "id": "b611b7ca",
   "metadata": {},
   "outputs": [],
   "source": [
    "from sklearn.experimental import enable_iterative_imputer\n",
    "from sklearn.impute import IterativeImputer\n",
    "from sklearn.preprocessing import LabelEncoder"
   ]
  },
  {
   "cell_type": "code",
   "execution_count": 165,
   "id": "03a9e9d1",
   "metadata": {},
   "outputs": [],
   "source": [
    "\n",
    "\n",
    "oversampled['Date'] = oversampled['Date'].fillna(oversampled['Date'].mode()[0])\n",
    "oversampled['Location'] = oversampled['Location'].fillna(oversampled['Location'].mode()[0])\n",
    "oversampled['WindGustDir'] = oversampled['WindGustDir'].fillna(oversampled['WindGustDir'].mode()[0])\n",
    "oversampled['WindDir9am'] = oversampled['WindDir9am'].fillna(oversampled['WindDir9am'].mode()[0])\n",
    "oversampled['WindDir3pm'] = oversampled['WindDir3pm'].fillna(oversampled['WindDir3pm'].mode()[0])"
   ]
  },
  {
   "cell_type": "code",
   "execution_count": 166,
   "id": "0c5206e0",
   "metadata": {},
   "outputs": [],
   "source": [
    "df2 = oversampled[['Location','WindGustDir', 'WindDir9am' ,'WindDir3pm']]"
   ]
  },
  {
   "cell_type": "markdown",
   "id": "28fb4191",
   "metadata": {},
   "source": [
    "###  Convert categorical features to continuous features with Label Encoding"
   ]
  },
  {
   "cell_type": "code",
   "execution_count": 167,
   "id": "7fb43efe",
   "metadata": {},
   "outputs": [],
   "source": [
    "lencoders = {}\n",
    "for col in oversampled.select_dtypes(include=['object']).columns:\n",
    "    lencoders[col] = LabelEncoder()\n",
    "    oversampled[col] = lencoders[col].fit_transform(oversampled[col])"
   ]
  },
  {
   "cell_type": "code",
   "execution_count": 168,
   "id": "73550a73",
   "metadata": {},
   "outputs": [
    {
     "data": {
      "text/html": [
       "<div>\n",
       "<style scoped>\n",
       "    .dataframe tbody tr th:only-of-type {\n",
       "        vertical-align: middle;\n",
       "    }\n",
       "\n",
       "    .dataframe tbody tr th {\n",
       "        vertical-align: top;\n",
       "    }\n",
       "\n",
       "    .dataframe thead th {\n",
       "        text-align: right;\n",
       "    }\n",
       "</style>\n",
       "<table border=\"1\" class=\"dataframe\">\n",
       "  <thead>\n",
       "    <tr style=\"text-align: right;\">\n",
       "      <th></th>\n",
       "      <th>Date</th>\n",
       "      <th>Location</th>\n",
       "      <th>MinTemp</th>\n",
       "      <th>MaxTemp</th>\n",
       "      <th>Rainfall</th>\n",
       "      <th>Evaporation</th>\n",
       "      <th>Sunshine</th>\n",
       "      <th>WindGustDir</th>\n",
       "      <th>WindGustSpeed</th>\n",
       "      <th>WindDir9am</th>\n",
       "      <th>...</th>\n",
       "      <th>Humidity9am</th>\n",
       "      <th>Humidity3pm</th>\n",
       "      <th>Pressure9am</th>\n",
       "      <th>Pressure3pm</th>\n",
       "      <th>Cloud9am</th>\n",
       "      <th>Cloud3pm</th>\n",
       "      <th>Temp9am</th>\n",
       "      <th>Temp3pm</th>\n",
       "      <th>RainToday</th>\n",
       "      <th>RainTomorrow</th>\n",
       "    </tr>\n",
       "  </thead>\n",
       "  <tbody>\n",
       "    <tr>\n",
       "      <th>0</th>\n",
       "      <td>0</td>\n",
       "      <td>1</td>\n",
       "      <td>13.4</td>\n",
       "      <td>22.9</td>\n",
       "      <td>0.6</td>\n",
       "      <td>NaN</td>\n",
       "      <td>NaN</td>\n",
       "      <td>13</td>\n",
       "      <td>44.0</td>\n",
       "      <td>13</td>\n",
       "      <td>...</td>\n",
       "      <td>71.0</td>\n",
       "      <td>22.0</td>\n",
       "      <td>1007.7</td>\n",
       "      <td>1007.1</td>\n",
       "      <td>8.0</td>\n",
       "      <td>NaN</td>\n",
       "      <td>16.9</td>\n",
       "      <td>21.8</td>\n",
       "      <td>0.0</td>\n",
       "      <td>0.0</td>\n",
       "    </tr>\n",
       "    <tr>\n",
       "      <th>1</th>\n",
       "      <td>1</td>\n",
       "      <td>1</td>\n",
       "      <td>7.4</td>\n",
       "      <td>25.1</td>\n",
       "      <td>0.0</td>\n",
       "      <td>NaN</td>\n",
       "      <td>NaN</td>\n",
       "      <td>14</td>\n",
       "      <td>44.0</td>\n",
       "      <td>6</td>\n",
       "      <td>...</td>\n",
       "      <td>44.0</td>\n",
       "      <td>25.0</td>\n",
       "      <td>1010.6</td>\n",
       "      <td>1007.8</td>\n",
       "      <td>NaN</td>\n",
       "      <td>NaN</td>\n",
       "      <td>17.2</td>\n",
       "      <td>24.3</td>\n",
       "      <td>0.0</td>\n",
       "      <td>0.0</td>\n",
       "    </tr>\n",
       "    <tr>\n",
       "      <th>2</th>\n",
       "      <td>2</td>\n",
       "      <td>1</td>\n",
       "      <td>12.9</td>\n",
       "      <td>25.7</td>\n",
       "      <td>0.0</td>\n",
       "      <td>NaN</td>\n",
       "      <td>NaN</td>\n",
       "      <td>15</td>\n",
       "      <td>46.0</td>\n",
       "      <td>13</td>\n",
       "      <td>...</td>\n",
       "      <td>38.0</td>\n",
       "      <td>30.0</td>\n",
       "      <td>1007.6</td>\n",
       "      <td>1008.7</td>\n",
       "      <td>NaN</td>\n",
       "      <td>2.0</td>\n",
       "      <td>21.0</td>\n",
       "      <td>23.2</td>\n",
       "      <td>0.0</td>\n",
       "      <td>0.0</td>\n",
       "    </tr>\n",
       "    <tr>\n",
       "      <th>3</th>\n",
       "      <td>3</td>\n",
       "      <td>1</td>\n",
       "      <td>9.2</td>\n",
       "      <td>28.0</td>\n",
       "      <td>0.0</td>\n",
       "      <td>NaN</td>\n",
       "      <td>NaN</td>\n",
       "      <td>4</td>\n",
       "      <td>24.0</td>\n",
       "      <td>9</td>\n",
       "      <td>...</td>\n",
       "      <td>45.0</td>\n",
       "      <td>16.0</td>\n",
       "      <td>1017.6</td>\n",
       "      <td>1012.8</td>\n",
       "      <td>NaN</td>\n",
       "      <td>NaN</td>\n",
       "      <td>18.1</td>\n",
       "      <td>26.5</td>\n",
       "      <td>0.0</td>\n",
       "      <td>0.0</td>\n",
       "    </tr>\n",
       "    <tr>\n",
       "      <th>4</th>\n",
       "      <td>4</td>\n",
       "      <td>1</td>\n",
       "      <td>17.5</td>\n",
       "      <td>32.3</td>\n",
       "      <td>1.0</td>\n",
       "      <td>NaN</td>\n",
       "      <td>NaN</td>\n",
       "      <td>13</td>\n",
       "      <td>41.0</td>\n",
       "      <td>1</td>\n",
       "      <td>...</td>\n",
       "      <td>82.0</td>\n",
       "      <td>33.0</td>\n",
       "      <td>1010.8</td>\n",
       "      <td>1006.0</td>\n",
       "      <td>7.0</td>\n",
       "      <td>8.0</td>\n",
       "      <td>17.8</td>\n",
       "      <td>29.7</td>\n",
       "      <td>0.0</td>\n",
       "      <td>0.0</td>\n",
       "    </tr>\n",
       "  </tbody>\n",
       "</table>\n",
       "<p>5 rows × 23 columns</p>\n",
       "</div>"
      ],
      "text/plain": [
       "   Date  Location  MinTemp  MaxTemp  Rainfall  Evaporation  Sunshine  \\\n",
       "0     0         1     13.4     22.9       0.6          NaN       NaN   \n",
       "1     1         1      7.4     25.1       0.0          NaN       NaN   \n",
       "2     2         1     12.9     25.7       0.0          NaN       NaN   \n",
       "3     3         1      9.2     28.0       0.0          NaN       NaN   \n",
       "4     4         1     17.5     32.3       1.0          NaN       NaN   \n",
       "\n",
       "   WindGustDir  WindGustSpeed  WindDir9am  ...  Humidity9am  Humidity3pm  \\\n",
       "0           13           44.0          13  ...         71.0         22.0   \n",
       "1           14           44.0           6  ...         44.0         25.0   \n",
       "2           15           46.0          13  ...         38.0         30.0   \n",
       "3            4           24.0           9  ...         45.0         16.0   \n",
       "4           13           41.0           1  ...         82.0         33.0   \n",
       "\n",
       "   Pressure9am  Pressure3pm  Cloud9am  Cloud3pm  Temp9am  Temp3pm  RainToday  \\\n",
       "0       1007.7       1007.1       8.0       NaN     16.9     21.8        0.0   \n",
       "1       1010.6       1007.8       NaN       NaN     17.2     24.3        0.0   \n",
       "2       1007.6       1008.7       NaN       2.0     21.0     23.2        0.0   \n",
       "3       1017.6       1012.8       NaN       NaN     18.1     26.5        0.0   \n",
       "4       1010.8       1006.0       7.0       8.0     17.8     29.7        0.0   \n",
       "\n",
       "   RainTomorrow  \n",
       "0           0.0  \n",
       "1           0.0  \n",
       "2           0.0  \n",
       "3           0.0  \n",
       "4           0.0  \n",
       "\n",
       "[5 rows x 23 columns]"
      ]
     },
     "execution_count": 168,
     "metadata": {},
     "output_type": "execute_result"
    }
   ],
   "source": [
    "oversampled.head()"
   ]
  },
  {
   "cell_type": "markdown",
   "id": "4b4ee891",
   "metadata": {},
   "source": [
    "### Multiple Imputation by Chained Equations"
   ]
  },
  {
   "cell_type": "code",
   "execution_count": 169,
   "id": "58a6b664",
   "metadata": {},
   "outputs": [],
   "source": [
    "MiceImputed = oversampled.copy(deep=True) \n",
    "mice_imputer = IterativeImputer()\n",
    "MiceImputed.iloc[:, :] = mice_imputer.fit_transform(oversampled)"
   ]
  },
  {
   "cell_type": "markdown",
   "id": "1873fd03",
   "metadata": {},
   "source": [
    "### Dealing with outliers"
   ]
  },
  {
   "cell_type": "markdown",
   "id": "b025451e",
   "metadata": {},
   "source": [
    "We will now detect and eliminate outliers from the inter-quartile interval-based data set."
   ]
  },
  {
   "cell_type": "markdown",
   "id": "9ddbc8cc",
   "metadata": {},
   "source": [
    "### Detecting outliers with IQR"
   ]
  },
  {
   "cell_type": "code",
   "execution_count": 170,
   "id": "0f4cc9c4",
   "metadata": {},
   "outputs": [
    {
     "name": "stdout",
     "output_type": "stream",
     "text": [
      "Date             1431.750000\n",
      "Location            5.000000\n",
      "MinTemp             8.300000\n",
      "MaxTemp             8.400000\n",
      "Rainfall            3.200000\n",
      "Evaporation         4.238617\n",
      "Sunshine            6.344000\n",
      "WindGustDir         9.000000\n",
      "WindGustSpeed      20.000000\n",
      "WindDir9am          9.000000\n",
      "WindDir3pm          7.000000\n",
      "WindSpeed9am       13.000000\n",
      "WindSpeed3pm       15.000000\n",
      "Humidity9am        24.000000\n",
      "Humidity3pm        27.123541\n",
      "Pressure9am         8.200000\n",
      "Pressure3pm         8.000000\n",
      "Cloud9am            4.068659\n",
      "Cloud3pm            4.000000\n",
      "Temp9am             8.000000\n",
      "Temp3pm             8.075000\n",
      "RainToday           1.000000\n",
      "RainTomorrow        1.000000\n",
      "dtype: float64\n"
     ]
    }
   ],
   "source": [
    "Q1 = MiceImputed.quantile(0.25)\n",
    "Q3 = MiceImputed.quantile(0.75)\n",
    "IQR = Q3 - Q1\n",
    "print(IQR)"
   ]
  },
  {
   "cell_type": "markdown",
   "id": "458d9b3c",
   "metadata": {},
   "source": [
    "### Removing outliers from the dataset"
   ]
  },
  {
   "cell_type": "code",
   "execution_count": 171,
   "id": "7cf19036",
   "metadata": {},
   "outputs": [
    {
     "data": {
      "text/plain": [
       "(9748, 23)"
      ]
     },
     "execution_count": 171,
     "metadata": {},
     "output_type": "execute_result"
    }
   ],
   "source": [
    "MiceImputed = MiceImputed[~((MiceImputed < (Q1 - 1.5 * IQR)) |(MiceImputed > (Q3 + 1.5 * IQR))).any(axis=1)]\n",
    "MiceImputed.shape"
   ]
  },
  {
   "cell_type": "markdown",
   "id": "47a9524d",
   "metadata": {},
   "source": [
    "### Correlation Heatmap\n"
   ]
  },
  {
   "cell_type": "code",
   "execution_count": 172,
   "id": "3249bcb2",
   "metadata": {},
   "outputs": [
    {
     "data": {
      "image/png": "[encoded data removed]",
      "text/plain": [
       "<Figure size 1440x1440 with 2 Axes>"
      ]
     },
     "metadata": {
      "needs_background": "light"
     },
     "output_type": "display_data"
    }
   ],
   "source": [
    "corr = MiceImputed.corr()\n",
    "mask = np.triu(np.ones_like(corr, dtype=np.bool))\n",
    "f, ax = plt.subplots(figsize=(20, 20))\n",
    "cmap = sns.diverging_palette(250, 25, as_cmap=True)\n",
    "sns.heatmap(corr, mask=mask, cmap=cmap, vmax=None, center=0,square=True, annot=True, linewidths=.5, cbar_kws={\"shrink\": .9})\n",
    "plt.show()"
   ]
  },
  {
   "cell_type": "markdown",
   "id": "fd2d165f",
   "metadata": {},
   "source": [
    "### The following feature pairs have a strong correlation with each other:\n",
    "\n",
    "* MaxTemp and MinTemp\n",
    "* Pressure9h and pressure3h\n",
    "* Temp9am and Temp3pm\n",
    "* Evaporation and MaxTemp\n",
    "* MaxTemp and Temp3pm"
   ]
  },
  {
   "cell_type": "markdown",
   "id": "0cbea2fe",
   "metadata": {},
   "source": [
    "#### But in no case is the correlation value equal to a perfect “1”. We are therefore not removing any functionality"
   ]
  },
  {
   "cell_type": "markdown",
   "id": "62d5d441",
   "metadata": {},
   "source": [
    "### Feature Selection "
   ]
  },
  {
   "cell_type": "markdown",
   "id": "b1d235ca",
   "metadata": {},
   "source": [
    "I will use both the filter method and the wrapper method(random forest) for feature selection to train our rainfall prediction model."
   ]
  },
  {
   "cell_type": "markdown",
   "id": "b238bd94",
   "metadata": {},
   "source": [
    "### Filter Method (Chi-Square)"
   ]
  },
  {
   "cell_type": "markdown",
   "id": "ca8ac4a1",
   "metadata": {},
   "source": [
    "### Using MinMaxScaler instead of StandardScaler in order to avoid negative values."
   ]
  },
  {
   "cell_type": "markdown",
   "id": "f4917ba7",
   "metadata": {},
   "source": [
    "### Standardizing data"
   ]
  },
  {
   "cell_type": "code",
   "execution_count": 173,
   "id": "090b4b9b",
   "metadata": {},
   "outputs": [],
   "source": [
    "from sklearn import preprocessing\n",
    "from sklearn.feature_selection import SelectKBest, chi2\n",
    "from sklearn.feature_selection import SelectFromModel"
   ]
  },
  {
   "cell_type": "code",
   "execution_count": 174,
   "id": "ada06b67",
   "metadata": {},
   "outputs": [],
   "source": [
    "r_scaler = preprocessing.MinMaxScaler()\n",
    "r_scaler.fit(MiceImputed)\n",
    "modified_data = pd.DataFrame(r_scaler.transform(MiceImputed), index=MiceImputed.index, columns=MiceImputed.columns)"
   ]
  },
  {
   "cell_type": "markdown",
   "id": "c1f838ec",
   "metadata": {},
   "source": [
    "## Saving preprocessed dataset to anoter file for next prediction"
   ]
  },
  {
   "cell_type": "code",
   "execution_count": 175,
   "id": "33f904c8",
   "metadata": {},
   "outputs": [],
   "source": [
    "modified_data2 = modified_data"
   ]
  },
  {
   "cell_type": "markdown",
   "id": "2c726ca8",
   "metadata": {},
   "source": [
    "# Preprocessing for 'RainTomorrow'"
   ]
  },
  {
   "cell_type": "markdown",
   "id": "ed47c5d2",
   "metadata": {},
   "source": [
    "### Feature Importance using Filter Method (Chi-Square)"
   ]
  },
  {
   "cell_type": "code",
   "execution_count": 176,
   "id": "7fd72bc6",
   "metadata": {},
   "outputs": [
    {
     "name": "stdout",
     "output_type": "stream",
     "text": [
      "Index(['Rainfall', 'Sunshine', 'WindGustSpeed', 'Humidity9am', 'Humidity3pm',\n",
      "       'Pressure9am', 'Cloud9am', 'Cloud3pm', 'Temp3pm', 'RainToday'],\n",
      "      dtype='object')\n"
     ]
    }
   ],
   "source": [
    "X = modified_data.loc[:,modified_data.columns!='RainTomorrow']\n",
    "y = modified_data[['RainTomorrow']]\n",
    "selector = SelectKBest(chi2, k=10)\n",
    "selector.fit(X, y)\n",
    "X_new = selector.transform(X)\n",
    "print(X.columns[selector.get_support(indices=True)])"
   ]
  },
  {
   "cell_type": "markdown",
   "id": "fb878d1f",
   "metadata": {},
   "source": [
    "### Wrapping Method (Random Forest)"
   ]
  },
  {
   "cell_type": "code",
   "execution_count": 177,
   "id": "880bac71",
   "metadata": {},
   "outputs": [],
   "source": [
    "from sklearn.metrics import accuracy_score, roc_auc_score, cohen_kappa_score, plot_confusion_matrix, roc_curve, classification_report\n",
    "from sklearn.preprocessing import StandardScaler\n",
    "from sklearn.model_selection import train_test_split\n",
    "\n",
    "from sklearn.linear_model import LogisticRegression\n",
    "from sklearn.ensemble import RandomForestClassifier\n",
    "from sklearn.neural_network import MLPClassifier\n",
    "from sklearn.tree import DecisionTreeClassifier\n",
    "import xgboost as xgb\n",
    "\n"
   ]
  },
  {
   "cell_type": "code",
   "execution_count": 178,
   "id": "0e8413a6",
   "metadata": {},
   "outputs": [
    {
     "name": "stdout",
     "output_type": "stream",
     "text": [
      "['Date', 'Sunshine', 'WindGustSpeed', 'Humidity3pm', 'Pressure9am', 'Pressure3pm', 'Cloud3pm']\n",
      "[0.04552285 0.02167373 0.03696247 0.03299921 0.02891997 0.0351255\n",
      " 0.1177546  0.02179026 0.05071181 0.02497631 0.0259351  0.02587539\n",
      " 0.02833827 0.04441683 0.11580411 0.04671925 0.05793059 0.04206377\n",
      " 0.10439172 0.03533102 0.03867535 0.0180819 ]\n"
     ]
    }
   ],
   "source": [
    "X = MiceImputed.drop('RainTomorrow', axis=1)\n",
    "y = MiceImputed['RainTomorrow']\n",
    "selector = SelectFromModel(RandomForestClassifier(n_estimators=100, random_state=0))\n",
    "selector.fit(X, y)\n",
    "support = selector.get_support()\n",
    "features = X.loc[:,support].columns.tolist()\n",
    "print(features)\n",
    "print(RandomForestClassifier(n_estimators=100, random_state=0).fit(X,y).feature_importances_)"
   ]
  },
  {
   "cell_type": "markdown",
   "id": "dd9fdf4f",
   "metadata": {},
   "source": [
    "### Selecting features by filtering method (chi-square value)."
   ]
  },
  {
   "cell_type": "markdown",
   "id": "422ad85c",
   "metadata": {},
   "source": [
    "### Training Rainfall Prediction Model with Different Models"
   ]
  },
  {
   "cell_type": "code",
   "execution_count": 179,
   "id": "a7babe8a",
   "metadata": {},
   "outputs": [],
   "source": [
    "features = MiceImputed[['Location', 'MinTemp', 'MaxTemp', 'Rainfall', 'Evaporation', 'Sunshine', 'WindGustDir', \n",
    "                       'WindGustSpeed', 'WindDir9am', 'WindDir3pm', 'WindSpeed9am', 'WindSpeed3pm', 'Humidity9am', \n",
    "                       'Humidity3pm', 'Pressure9am', 'Pressure3pm', 'Cloud9am', 'Cloud3pm', 'Temp9am', 'Temp3pm', \n",
    "                       'RainToday']]\n",
    "target = MiceImputed['RainTomorrow']\n",
    "\n",
    "# Split into test and train\n",
    "\n",
    "X_train, X_test, y_train, y_test = train_test_split(features, target, test_size=0.25, random_state=12345)\n",
    "\n",
    "# Normalize Features\n",
    "\n",
    "scaler = StandardScaler()\n",
    "X_train = scaler.fit_transform(X_train)\n",
    "X_test = scaler.fit_transform(X_test)"
   ]
  },
  {
   "cell_type": "code",
   "execution_count": 180,
   "id": "c8fa49e7",
   "metadata": {},
   "outputs": [],
   "source": [
    "def plot_roc_cur(fper, tper):  \n",
    "    plt.plot(fper, tper, color='orange', label='ROC')\n",
    "    plt.plot([0, 1], [0, 1], color='darkblue', linestyle='--')\n",
    "    plt.xlabel('False Positive Rate')\n",
    "    plt.ylabel('True Positive Rate')\n",
    "    plt.title('Receiver Operating Characteristic (ROC) Curve')\n",
    "    plt.legend()\n",
    "    plt.show()"
   ]
  },
  {
   "cell_type": "code",
   "execution_count": 181,
   "id": "90521e74",
   "metadata": {},
   "outputs": [],
   "source": [
    "def run_model(model, X_train, y_train, X_test, y_test, verbose=True):\n",
    "    t0 = time.time()\n",
    "    if verbose == False:\n",
    "        model.fit(X_train,y_train, verbose=0)\n",
    "    else:\n",
    "        model.fit(X_train,y_train)\n",
    "    y_pred = model.predict(X_test)\n",
    "    accuracy = accuracy_score(y_test, y_pred)\n",
    "    roc_auc = roc_auc_score(y_test, y_pred) \n",
    "    coh_kap = cohen_kappa_score(y_test, y_pred)\n",
    "    time_taken = time.time()-t0\n",
    "    print(\"Accuracy = {}\".format(accuracy))\n",
    "    print(\"ROC Area under Curve = {}\".format(roc_auc))\n",
    "    print(\"Cohen's Kappa = {}\".format(coh_kap))\n",
    "    print(\"Time taken = {}\".format(time_taken))\n",
    "    print(classification_report(y_test,y_pred,digits=5))\n",
    "    \n",
    "    probs = model.predict_proba(X_test)  \n",
    "    probs = probs[:, 1]  \n",
    "    fper, tper, thresholds = roc_curve(y_test, probs) \n",
    "    plot_roc_cur(fper, tper)\n",
    "    \n",
    "    plot_confusion_matrix(model, X_test, y_test,cmap=plt.cm.Blues, normalize = 'all')\n",
    "    \n",
    "    return model, accuracy, roc_auc, coh_kap, time_taken"
   ]
  },
  {
   "cell_type": "markdown",
   "id": "b0f7b9a0",
   "metadata": {},
   "source": [
    "### Logistic Regression"
   ]
  },
  {
   "cell_type": "code",
   "execution_count": 182,
   "id": "db914a02",
   "metadata": {},
   "outputs": [
    {
     "name": "stdout",
     "output_type": "stream",
     "text": [
      "Accuracy = 0.7821091505949939\n",
      "ROC Area under Curve = 0.7767197742925899\n",
      "Cohen's Kappa = 0.5570463526967333\n",
      "Time taken = 0.2158651351928711\n",
      "              precision    recall  f1-score   support\n",
      "\n",
      "         0.0    0.78491   0.83122   0.80740      1339\n",
      "         1.0    0.77821   0.72222   0.74917      1098\n",
      "\n",
      "    accuracy                        0.78211      2437\n",
      "   macro avg    0.78156   0.77672   0.77829      2437\n",
      "weighted avg    0.78189   0.78211   0.78117      2437\n",
      "\n"
     ]
    },
    {
     "data": {
      "image/png": "[encoded data removed]",
      "text/plain": [
       "<Figure size 432x288 with 1 Axes>"
      ]
     },
     "metadata": {
      "needs_background": "light"
     },
     "output_type": "display_data"
    },
    {
     "data": {
      "image/png": "[encoded data removed]",
      "text/plain": [
       "<Figure size 432x288 with 2 Axes>"
      ]
     },
     "metadata": {
      "needs_background": "light"
     },
     "output_type": "display_data"
    }
   ],
   "source": [
    "import time\n",
    "params_lr = {'penalty': 'l1', 'solver':'liblinear'}\n",
    "\n",
    "model_lr = LogisticRegression(**params_lr)\n",
    "model_lr, accuracy_lr, roc_auc_lr, coh_kap_lr, tt_lr = run_model(model_lr, X_train, y_train, X_test, y_test)"
   ]
  },
  {
   "cell_type": "markdown",
   "id": "597574a9",
   "metadata": {},
   "source": [
    "### Decision Tree"
   ]
  },
  {
   "cell_type": "code",
   "execution_count": 183,
   "id": "8bd213e2",
   "metadata": {},
   "outputs": [
    {
     "name": "stdout",
     "output_type": "stream",
     "text": [
      "Accuracy = 0.8830529339351662\n",
      "ROC Area under Curve = 0.8816110764224723\n",
      "Cohen's Kappa = 0.763660282221361\n",
      "Time taken = 0.04271340370178223\n",
      "              precision    recall  f1-score   support\n",
      "\n",
      "         0.0    0.89153   0.89619   0.89385      1339\n",
      "         1.0    0.87259   0.86703   0.86980      1098\n",
      "\n",
      "    accuracy                        0.88305      2437\n",
      "   macro avg    0.88206   0.88161   0.88183      2437\n",
      "weighted avg    0.88300   0.88305   0.88302      2437\n",
      "\n"
     ]
    },
    {
     "data": {
      "image/png": "[encoded data removed]",
      "text/plain": [
       "<Figure size 432x288 with 1 Axes>"
      ]
     },
     "metadata": {
      "needs_background": "light"
     },
     "output_type": "display_data"
    },
    {
     "data": {
      "image/png": "[encoded data removed]",
      "text/plain": [
       "<Figure size 432x288 with 2 Axes>"
      ]
     },
     "metadata": {
      "needs_background": "light"
     },
     "output_type": "display_data"
    }
   ],
   "source": [
    "params_dt = {'max_depth': 16,\n",
    "             'max_features': \"sqrt\"}\n",
    "\n",
    "model_dt = DecisionTreeClassifier(**params_dt)\n",
    "model_dt, accuracy_dt, roc_auc_dt, coh_kap_dt, tt_dt = run_model(model_dt, X_train, y_train, X_test, y_test)"
   ]
  },
  {
   "cell_type": "markdown",
   "id": "c01cffea",
   "metadata": {},
   "source": [
    "### Neural Network"
   ]
  },
  {
   "cell_type": "code",
   "execution_count": 184,
   "id": "fa0a9b49",
   "metadata": {},
   "outputs": [
    {
     "name": "stdout",
     "output_type": "stream",
     "text": [
      "Accuracy = 0.9347558473533032\n",
      "ROC Area under Curve = 0.936693234083016\n",
      "Cohen's Kappa = 0.868899898397193\n",
      "Time taken = 18.647523641586304\n",
      "              precision    recall  f1-score   support\n",
      "\n",
      "         0.0    0.96238   0.91710   0.93920      1339\n",
      "         1.0    0.90439   0.95628   0.92961      1098\n",
      "\n",
      "    accuracy                        0.93476      2437\n",
      "   macro avg    0.93339   0.93669   0.93441      2437\n",
      "weighted avg    0.93625   0.93476   0.93488      2437\n",
      "\n"
     ]
    },
    {
     "data": {
      "image/png": "[encoded data removed]",
      "text/plain": [
       "<Figure size 432x288 with 1 Axes>"
      ]
     },
     "metadata": {
      "needs_background": "light"
     },
     "output_type": "display_data"
    },
    {
     "data": {
      "image/png": "[encoded data removed]",
      "text/plain": [
       "<Figure size 432x288 with 2 Axes>"
      ]
     },
     "metadata": {
      "needs_background": "light"
     },
     "output_type": "display_data"
    }
   ],
   "source": [
    "params_nn = {'hidden_layer_sizes': (30,30,30),\n",
    "             'activation': 'logistic',\n",
    "             'solver': 'lbfgs',\n",
    "             'max_iter': 500}\n",
    "\n",
    "model_nn = MLPClassifier(**params_nn)\n",
    "model_nn, accuracy_nn, roc_auc_nn, coh_kap_nn, tt_nn = run_model(model_nn, X_train, y_train, X_test, y_test)"
   ]
  },
  {
   "cell_type": "markdown",
   "id": "3df7ad05",
   "metadata": {},
   "source": [
    "### XGBoost"
   ]
  },
  {
   "cell_type": "code",
   "execution_count": 185,
   "id": "d5743d88",
   "metadata": {},
   "outputs": [
    {
     "name": "stdout",
     "output_type": "stream",
     "text": [
      "Accuracy = 0.9573245794009028\n",
      "ROC Area under Curve = 0.9579685924982757\n",
      "Cohen's Kappa = 0.9139895001544095\n",
      "Time taken = 6.701871395111084\n",
      "              precision    recall  f1-score   support\n",
      "\n",
      "         0.0    0.97030   0.95146   0.96078      1339\n",
      "         1.0    0.94217   0.96448   0.95320      1098\n",
      "\n",
      "    accuracy                        0.95732      2437\n",
      "   macro avg    0.95623   0.95797   0.95699      2437\n",
      "weighted avg    0.95762   0.95732   0.95737      2437\n",
      "\n"
     ]
    },
    {
     "data": {
      "image/png": "[encoded data removed]",
      "text/plain": [
       "<Figure size 432x288 with 1 Axes>"
      ]
     },
     "metadata": {
      "needs_background": "light"
     },
     "output_type": "display_data"
    },
    {
     "data": {
      "image/png": "[encoded data removed]",
      "text/plain": [
       "<Figure size 432x288 with 2 Axes>"
      ]
     },
     "metadata": {
      "needs_background": "light"
     },
     "output_type": "display_data"
    }
   ],
   "source": [
    "params_xgb = {'n_estimators': 500,\n",
    "            'max_depth': 16}\n",
    "\n",
    "model_xgb = xgb.XGBClassifier(**params_xgb)\n",
    "model_xgb, accuracy_xgb, roc_auc_xgb, coh_kap_xgb, tt_xgb = run_model(model_xgb, X_train, y_train, X_test, y_test)"
   ]
  },
  {
   "cell_type": "markdown",
   "id": "46ee33d3",
   "metadata": {},
   "source": [
    "### Random Forest"
   ]
  },
  {
   "cell_type": "code",
   "execution_count": 186,
   "id": "f19072f4",
   "metadata": {},
   "outputs": [
    {
     "name": "stdout",
     "output_type": "stream",
     "text": [
      "Accuracy = 0.9626590069757899\n",
      "ROC Area under Curve = 0.9633966843102607\n",
      "Cohen's Kappa = 0.9247469672892423\n",
      "Time taken = 1.8411922454833984\n",
      "              precision    recall  f1-score   support\n",
      "\n",
      "         0.0    0.97561   0.95594   0.96567      1339\n",
      "         1.0    0.94756   0.97086   0.95906      1098\n",
      "\n",
      "    accuracy                        0.96266      2437\n",
      "   macro avg    0.96158   0.96340   0.96237      2437\n",
      "weighted avg    0.96297   0.96266   0.96270      2437\n",
      "\n"
     ]
    },
    {
     "data": {
      "image/png": "[encoded data removed]",
      "text/plain": [
       "<Figure size 432x288 with 1 Axes>"
      ]
     },
     "metadata": {
      "needs_background": "light"
     },
     "output_type": "display_data"
    },
    {
     "data": {
      "image/png": "[encoded data removed]",
      "text/plain": [
       "<Figure size 432x288 with 2 Axes>"
      ]
     },
     "metadata": {
      "needs_background": "light"
     },
     "output_type": "display_data"
    }
   ],
   "source": [
    "params_rf = {'max_depth': 16,\n",
    "             'min_samples_leaf': 1,\n",
    "             'min_samples_split': 2,\n",
    "             'n_estimators': 100,\n",
    "             'random_state': 12345}\n",
    "\n",
    "model_rf = RandomForestClassifier(**params_rf)\n",
    "model_rf, accuracy_rf, roc_auc_rf, coh_kap_rf, tt_rf = run_model(model_rf, X_train, y_train, X_test, y_test)"
   ]
  },
  {
   "cell_type": "markdown",
   "id": "8858c53e",
   "metadata": {},
   "source": [
    "### Model Comparison"
   ]
  },
  {
   "cell_type": "code",
   "execution_count": 187,
   "id": "d44df92a",
   "metadata": {},
   "outputs": [
    {
     "data": {
      "image/png": "[encoded data removed]",
      "text/plain": [
       "<Figure size 864x720 with 2 Axes>"
      ]
     },
     "metadata": {
      "needs_background": "light"
     },
     "output_type": "display_data"
    }
   ],
   "source": [
    "accuracy_scores = [accuracy_lr, accuracy_dt, accuracy_nn, accuracy_rf, accuracy_xgb]\n",
    "roc_auc_scores = [roc_auc_lr, roc_auc_dt, roc_auc_nn, roc_auc_rf, roc_auc_xgb]\n",
    "coh_kap_scores = [coh_kap_lr, coh_kap_dt, coh_kap_nn, coh_kap_rf, coh_kap_xgb]\n",
    "tt = [tt_lr, tt_dt, tt_nn, tt_rf, tt_xgb]\n",
    "\n",
    "model_data = {'Model': ['Logistic Regression','Decision Tree','Neural Network','Random Forest','XGBoost'],\n",
    "              'Accuracy': accuracy_scores,\n",
    "              'ROC_AUC': roc_auc_scores,\n",
    "              'Cohen_Kappa': coh_kap_scores,\n",
    "              'Time taken': tt}\n",
    "data = pd.DataFrame(model_data)\n",
    "\n",
    "fig, ax1 = plt.subplots(figsize=(12,10))\n",
    "ax1.set_title('Model Comparison: Accuracy and Time taken for execution', fontsize=13)\n",
    "color = 'tab:green'\n",
    "ax1.set_xlabel('Model', fontsize=13)\n",
    "ax1.set_ylabel('Time taken', fontsize=13, color=color)\n",
    "ax2 = sns.barplot(x='Model', y='Time taken', data = data, palette='summer')\n",
    "ax1.tick_params(axis='y')\n",
    "ax2 = ax1.twinx()\n",
    "color = 'tab:red'\n",
    "ax2.set_ylabel('Accuracy', fontsize=13, color=color)\n",
    "ax2 = sns.lineplot(x='Model', y='Accuracy', data = data, sort=False, color=color)\n",
    "ax2.tick_params(axis='y', color=color)"
   ]
  },
  {
   "cell_type": "code",
   "execution_count": 188,
   "id": "6fb2e294",
   "metadata": {},
   "outputs": [
    {
     "data": {
      "image/png": "[encoded data removed]",
      "text/plain": [
       "<Figure size 864x720 with 2 Axes>"
      ]
     },
     "metadata": {
      "needs_background": "light"
     },
     "output_type": "display_data"
    }
   ],
   "source": [
    "fig, ax3 = plt.subplots(figsize=(12,10))\n",
    "ax3.set_title('Model Comparison: Area under ROC and Cohens Kappa', fontsize=13)\n",
    "color = 'tab:blue'\n",
    "ax3.set_xlabel('Model', fontsize=13)\n",
    "ax3.set_ylabel('ROC_AUC', fontsize=13, color=color)\n",
    "ax4 = sns.barplot(x='Model', y='ROC_AUC', data = data, palette='winter')\n",
    "ax3.tick_params(axis='y')\n",
    "ax4 = ax3.twinx()\n",
    "color = 'tab:red'\n",
    "ax4.set_ylabel('Cohen_Kappa', fontsize=13, color=color)\n",
    "ax4 = sns.lineplot(x='Model', y='Cohen_Kappa', data = data, sort=False, color=color)\n",
    "ax4.tick_params(axis='y', color=color)\n",
    "plt.show()"
   ]
  },
  {
   "cell_type": "markdown",
   "id": "e2417480",
   "metadata": {},
   "source": [
    "### We can observe that XGBoost and Random Forest performed better compared to other models. "
   ]
  },
  {
   "cell_type": "markdown",
   "id": "555d6320",
   "metadata": {},
   "source": [
    "## We can take  Random Forest as a final model for the prediction of 'RainTomorrow'"
   ]
  },
  {
   "cell_type": "markdown",
   "id": "df76c110",
   "metadata": {},
   "source": [
    "### Saving the model:"
   ]
  },
  {
   "cell_type": "code",
   "execution_count": 189,
   "id": "d628a16d",
   "metadata": {},
   "outputs": [
    {
     "data": {
      "text/plain": [
       "['Rainfall_Weather_Forecasting_RainTomorrow.pkl']"
      ]
     },
     "execution_count": 189,
     "metadata": {},
     "output_type": "execute_result"
    }
   ],
   "source": [
    "import joblib\n",
    "joblib.dump(model_rf,\"Rainfall_Weather_Forecasting_RainTomorrow.pkl\")"
   ]
  },
  {
   "cell_type": "markdown",
   "id": "410323a4",
   "metadata": {},
   "source": [
    "### loading the model"
   ]
  },
  {
   "cell_type": "code",
   "execution_count": 190,
   "id": "9e4b9404",
   "metadata": {},
   "outputs": [
    {
     "data": {
      "text/html": [
       "<div>\n",
       "<style scoped>\n",
       "    .dataframe tbody tr th:only-of-type {\n",
       "        vertical-align: middle;\n",
       "    }\n",
       "\n",
       "    .dataframe tbody tr th {\n",
       "        vertical-align: top;\n",
       "    }\n",
       "\n",
       "    .dataframe thead th {\n",
       "        text-align: right;\n",
       "    }\n",
       "</style>\n",
       "<table border=\"1\" class=\"dataframe\">\n",
       "  <thead>\n",
       "    <tr style=\"text-align: right;\">\n",
       "      <th></th>\n",
       "      <th>Original</th>\n",
       "      <th>Predicted</th>\n",
       "    </tr>\n",
       "  </thead>\n",
       "  <tbody>\n",
       "    <tr>\n",
       "      <th>0</th>\n",
       "      <td>0.0</td>\n",
       "      <td>1.0</td>\n",
       "    </tr>\n",
       "    <tr>\n",
       "      <th>1</th>\n",
       "      <td>0.0</td>\n",
       "      <td>0.0</td>\n",
       "    </tr>\n",
       "    <tr>\n",
       "      <th>2</th>\n",
       "      <td>1.0</td>\n",
       "      <td>1.0</td>\n",
       "    </tr>\n",
       "    <tr>\n",
       "      <th>3</th>\n",
       "      <td>1.0</td>\n",
       "      <td>1.0</td>\n",
       "    </tr>\n",
       "    <tr>\n",
       "      <th>4</th>\n",
       "      <td>1.0</td>\n",
       "      <td>1.0</td>\n",
       "    </tr>\n",
       "    <tr>\n",
       "      <th>...</th>\n",
       "      <td>...</td>\n",
       "      <td>...</td>\n",
       "    </tr>\n",
       "    <tr>\n",
       "      <th>2432</th>\n",
       "      <td>0.0</td>\n",
       "      <td>0.0</td>\n",
       "    </tr>\n",
       "    <tr>\n",
       "      <th>2433</th>\n",
       "      <td>1.0</td>\n",
       "      <td>1.0</td>\n",
       "    </tr>\n",
       "    <tr>\n",
       "      <th>2434</th>\n",
       "      <td>0.0</td>\n",
       "      <td>0.0</td>\n",
       "    </tr>\n",
       "    <tr>\n",
       "      <th>2435</th>\n",
       "      <td>0.0</td>\n",
       "      <td>1.0</td>\n",
       "    </tr>\n",
       "    <tr>\n",
       "      <th>2436</th>\n",
       "      <td>0.0</td>\n",
       "      <td>0.0</td>\n",
       "    </tr>\n",
       "  </tbody>\n",
       "</table>\n",
       "<p>2437 rows × 2 columns</p>\n",
       "</div>"
      ],
      "text/plain": [
       "      Original  Predicted\n",
       "0          0.0        1.0\n",
       "1          0.0        0.0\n",
       "2          1.0        1.0\n",
       "3          1.0        1.0\n",
       "4          1.0        1.0\n",
       "...        ...        ...\n",
       "2432       0.0        0.0\n",
       "2433       1.0        1.0\n",
       "2434       0.0        0.0\n",
       "2435       0.0        1.0\n",
       "2436       0.0        0.0\n",
       "\n",
       "[2437 rows x 2 columns]"
      ]
     },
     "execution_count": 190,
     "metadata": {},
     "output_type": "execute_result"
    }
   ],
   "source": [
    "# Loading the saved model\n",
    "model=joblib.load(\"Rainfall_Weather_Forecasting_RainTomorrow.pkl\")\n",
    "\n",
    "#Prediction\n",
    "prediction = model.predict(X_test)\n",
    "a = np.array(y_test)\n",
    "df_final = pd.DataFrame({\"Original\":a,\"Predicted\":prediction},index=range(len(a)))\n",
    "df_final"
   ]
  },
  {
   "cell_type": "code",
   "execution_count": 191,
   "id": "2b16aa2b",
   "metadata": {},
   "outputs": [],
   "source": [
    "import pickle"
   ]
  },
  {
   "cell_type": "code",
   "execution_count": 192,
   "id": "cccc092a",
   "metadata": {
    "scrolled": true
   },
   "outputs": [],
   "source": [
    "pickle.dump(model_rf, open('model_rf.pkl', 'wb'))"
   ]
  },
  {
   "cell_type": "code",
   "execution_count": 193,
   "id": "08957690",
   "metadata": {},
   "outputs": [],
   "source": [
    "model =  pickle.load(open('model_rf.pkl', 'rb'))"
   ]
  },
  {
   "cell_type": "code",
   "execution_count": 194,
   "id": "86bc0259",
   "metadata": {},
   "outputs": [],
   "source": [
    "input1 = [[12,4.4,12.8,0,2.2,6.1,8,22,8,8,6,7,77,50,1022.5,1019.5,7,4,7.1,12.4,0]]"
   ]
  },
  {
   "cell_type": "code",
   "execution_count": 195,
   "id": "d8fa46d0",
   "metadata": {},
   "outputs": [
    {
     "name": "stdout",
     "output_type": "stream",
     "text": [
      "Tomorrow will be no Rain fall\n"
     ]
    }
   ],
   "source": [
    "prediction1 = model.predict(input1) \n",
    "\n",
    "pred = int(prediction1[0])\n",
    "if pred == 0:\n",
    "    print(\"Tomorrow will be no Rain fall\")\n",
    "else:\n",
    "    print(\"Tomorrow will be Rain fall\")"
   ]
  },
  {
   "cell_type": "code",
   "execution_count": null,
   "id": "3663c1de",
   "metadata": {},
   "outputs": [],
   "source": []
  },
  {
   "cell_type": "code",
   "execution_count": null,
   "id": "a2796104",
   "metadata": {},
   "outputs": [],
   "source": []
  },
  {
   "cell_type": "markdown",
   "id": "dc67159e",
   "metadata": {},
   "source": [
    "# Prediction for 'Rainfall'"
   ]
  },
  {
   "cell_type": "code",
   "execution_count": 196,
   "id": "c6086759",
   "metadata": {},
   "outputs": [],
   "source": [
    "X = modified_data2.loc[:,modified_data.columns!='Rainfall']\n",
    "y = modified_data2[['Rainfall']]"
   ]
  },
  {
   "cell_type": "code",
   "execution_count": 197,
   "id": "8a83c326",
   "metadata": {},
   "outputs": [],
   "source": [
    "X_train,X_test,y_train,y_test=train_test_split(X,y,test_size=.30,random_state=130)"
   ]
  },
  {
   "cell_type": "markdown",
   "id": "3f236c90",
   "metadata": {},
   "source": [
    "### As in case of 'Rainfall' this is a regression problem then we going to use and import regression models"
   ]
  },
  {
   "cell_type": "code",
   "execution_count": 198,
   "id": "6fc68454",
   "metadata": {},
   "outputs": [],
   "source": [
    "from sklearn.metrics import mean_absolute_error\n",
    "from sklearn.metrics import mean_squared_error\n",
    "from sklearn.metrics import r2_score\n",
    "from sklearn.ensemble import RandomForestRegressor\n",
    "from sklearn.ensemble import RandomForestRegressor\n",
    "from sklearn.tree import DecisionTreeRegressor\n",
    "from sklearn.neighbors import KNeighborsRegressor as KNN\n",
    "from sklearn.ensemble import GradientBoostingRegressor\n",
    "from sklearn.metrics import classification_report\n",
    "from sklearn.model_selection import cross_val_score"
   ]
  },
  {
   "cell_type": "markdown",
   "id": "c89782cf",
   "metadata": {},
   "source": [
    "### RandomForestRegressor"
   ]
  },
  {
   "cell_type": "code",
   "execution_count": 199,
   "id": "194e67e5",
   "metadata": {},
   "outputs": [
    {
     "name": "stdout",
     "output_type": "stream",
     "text": [
      "R2_Score: 0.9143599406945346\n",
      "MAE: 0.014168769921036401\n",
      "MSE: 0.0017888058810102774\n",
      "RMSE: 0.04229427716618736\n",
      "0.8315840606531719\n"
     ]
    }
   ],
   "source": [
    "# Checking R2 score for Random Forest Regressor\n",
    "RFR=RandomForestRegressor()\n",
    "RFR.fit(X_train,y_train)\n",
    "\n",
    "# prediction\n",
    "predRFR=RFR.predict(X_test)\n",
    "print('R2_Score:',r2_score(y_test,predRFR))\n",
    "print('MAE:',mean_absolute_error(y_test, predRFR))\n",
    "print('MSE:',mean_squared_error(y_test, predRFR))\n",
    "print(\"RMSE:\",np.sqrt(mean_squared_error(y_test, predRFR)))\n",
    "# Checking cv score \n",
    "print(cross_val_score(RFR,X,y,cv=5).mean())"
   ]
  },
  {
   "cell_type": "markdown",
   "id": "277a5fd9",
   "metadata": {},
   "source": [
    "### DecisionTreeRegressor"
   ]
  },
  {
   "cell_type": "code",
   "execution_count": 200,
   "id": "63895c6c",
   "metadata": {},
   "outputs": [
    {
     "name": "stdout",
     "output_type": "stream",
     "text": [
      "R2_Score: 0.8522281883526124\n",
      "MAE: 0.013249553819637694\n",
      "MSE: 0.003086582235768264\n",
      "RMSE: 0.055557017880446605\n",
      "0.7120575014978143\n"
     ]
    }
   ],
   "source": [
    "# Checking R2 score for Decision Tree Regressor\n",
    "DTR=DecisionTreeRegressor()\n",
    "DTR.fit(X_train,y_train)\n",
    "# prediction\n",
    "predDTR=DTR.predict(X_test)\n",
    "print('R2_Score:',r2_score(y_test,predDTR))\n",
    "print('MAE:',mean_absolute_error(y_test, predDTR))\n",
    "print('MSE:',mean_squared_error(y_test, predDTR))\n",
    "print(\"RMSE:\",np.sqrt(mean_squared_error(y_test, predDTR)))\n",
    "# Checking cv score \n",
    "print(cross_val_score(DTR,X,y,cv=5).mean())"
   ]
  },
  {
   "cell_type": "markdown",
   "id": "e2c2b280",
   "metadata": {},
   "source": [
    "### KNeighborsRegressor"
   ]
  },
  {
   "cell_type": "code",
   "execution_count": 201,
   "id": "aed14adc",
   "metadata": {},
   "outputs": [
    {
     "name": "stdout",
     "output_type": "stream",
     "text": [
      "R2_Score: 0.8184373050286955\n",
      "MAE: 0.0253305086555158\n",
      "MSE: 0.0037923889727621636\n",
      "RMSE: 0.061582375504377576\n",
      "0.740429777359352\n"
     ]
    }
   ],
   "source": [
    "# Checking R2 score for KNN Regressor\n",
    "knn=KNN()\n",
    "knn.fit(X_train,y_train)\n",
    "\n",
    "# prediction\n",
    "predknn=knn.predict(X_test)\n",
    "print('R2_Score:',r2_score(y_test,predknn))\n",
    "print('MAE:',mean_absolute_error(y_test, predknn))\n",
    "print('MSE:',mean_squared_error(y_test, predknn))\n",
    "print(\"RMSE:\",np.sqrt(mean_squared_error(y_test, predknn)))\n",
    "# Checking cv score \n",
    "print(cross_val_score(knn,X,y,cv=5).mean())"
   ]
  },
  {
   "cell_type": "markdown",
   "id": "49f8295a",
   "metadata": {},
   "source": [
    "### GradientBoostingRegressor"
   ]
  },
  {
   "cell_type": "code",
   "execution_count": 202,
   "id": "4b3d8f78",
   "metadata": {},
   "outputs": [
    {
     "name": "stdout",
     "output_type": "stream",
     "text": [
      "R2_Score: 0.8069391603999229\n",
      "MAE: 0.030822365238474418\n",
      "MSE: 0.004032556353535364\n",
      "RMSE: 0.06350241218674582\n",
      "0.7575350789006886\n"
     ]
    }
   ],
   "source": [
    "# Checking R2 score for GradientBoosting Regressor\n",
    "GB=GradientBoostingRegressor()\n",
    "GB.fit(X_train,y_train)\n",
    "# prediction\n",
    "predGB=GB.predict(X_test)\n",
    "print('R2_Score:',r2_score(y_test,predGB))\n",
    "print('MAE:',mean_absolute_error(y_test, predGB))\n",
    "print('MSE:',mean_squared_error(y_test, predGB))\n",
    "print(\"RMSE:\",np.sqrt(mean_squared_error(y_test, predGB)))\n",
    "# Checking cv score \n",
    "\n",
    "print(cross_val_score(GB,X,y,cv=5).mean())"
   ]
  },
  {
   "cell_type": "markdown",
   "id": "d8dc5c66",
   "metadata": {},
   "source": [
    "### As from above observations we can conclude that 'RandomForestRegressor' is our best model for the prediction of 'Rainfall'"
   ]
  },
  {
   "cell_type": "markdown",
   "id": "4658aebf",
   "metadata": {},
   "source": [
    "### Saving the model:"
   ]
  },
  {
   "cell_type": "code",
   "execution_count": 203,
   "id": "0e7af090",
   "metadata": {},
   "outputs": [
    {
     "data": {
      "text/plain": [
       "['Rainfall_Weather_Forecasting_Rainfall.pkl']"
      ]
     },
     "execution_count": 203,
     "metadata": {},
     "output_type": "execute_result"
    }
   ],
   "source": [
    "import joblib\n",
    "joblib.dump(predRFR,\"Rainfall_Weather_Forecasting_Rainfall.pkl\")"
   ]
  },
  {
   "cell_type": "markdown",
   "id": "edb259af",
   "metadata": {},
   "source": [
    "# Conclusion:-\n",
    "\n",
    "## *Our 1st model for d prediction of 'RainTomorrow' achived an accuracy of 96.26%\n",
    "\n",
    "## *Our 2nd model for d prediction of 'Rainfall' achived an accuracy of 91.43%¶"
   ]
  },
  {
   "cell_type": "code",
   "execution_count": null,
   "id": "c6d4f600",
   "metadata": {},
   "outputs": [],
   "source": []
  }
 ],
 "metadata": {
  "kernelspec": {
   "display_name": "Python 3 (ipykernel)",
   "language": "python",
   "name": "python3"
  },
  "language_info": {
   "codemirror_mode": {
    "name": "ipython",
    "version": 3
   },
   "file_extension": ".py",
   "mimetype": "text/x-python",
   "name": "python",
   "nbconvert_exporter": "python",
   "pygments_lexer": "ipython3",
   "version": "3.9.12"
  }
 },
 "nbformat": 4,
 "nbformat_minor": 5
}
